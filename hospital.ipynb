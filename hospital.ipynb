{
 "cells": [
  {
   "cell_type": "code",
   "execution_count": 1,
   "id": "0a5697c4",
   "metadata": {
    "scrolled": false
   },
   "outputs": [
    {
     "data": {
      "text/plain": [
       "True"
      ]
     },
     "execution_count": 1,
     "metadata": {},
     "output_type": "execute_result"
    }
   ],
   "source": [
    "from dotenv import load_dotenv\n",
    "import os\n",
    "\n",
    "load_dotenv()"
   ]
  },
  {
   "cell_type": "code",
   "execution_count": 2,
   "id": "a1afa702",
   "metadata": {},
   "outputs": [],
   "source": [
    "# genai.configure(api_key=os.environ.get(\"GOOGLE_API_KEY\"))\n",
    "# model = genai.GenerativeModel(model_name = \"gemini-pro\")\n",
    "#  prompt = [\n",
    "#     \"Write a Python function and explain it to me\",\n",
    "# ]\n",
    "\n",
    "# response = model.generate_content(prompt)"
   ]
  },
  {
   "cell_type": "code",
   "execution_count": 3,
   "id": "44bb9a17",
   "metadata": {},
   "outputs": [],
   "source": [
    "# print(response.text)"
   ]
  },
  {
   "cell_type": "code",
   "execution_count": 4,
   "id": "2f2ee8ad",
   "metadata": {},
   "outputs": [],
   "source": [
    "# import google.generativeai as genai\n",
    "from langchain.llms import GooglePalm\n",
    "from langchain.vectorstores import Chroma\n",
    "from langchain.embeddings import HuggingFaceEmbeddings\n",
    "from langchain.prompts import SemanticSimilarityExampleSelector"
   ]
  },
  {
   "cell_type": "code",
   "execution_count": 5,
   "id": "e1d447b9",
   "metadata": {
    "scrolled": true
   },
   "outputs": [],
   "source": [
    "from langchain.utilities import SQLDatabase\n",
    "from langchain_experimental.sql import SQLDatabaseChain\n",
    "from langchain.prompts import FewShotPromptTemplate\n",
    "from langchain.chains.sql_database.prompt import PROMPT_SUFFIX, _mysql_prompt\n",
    "from langchain.prompts.prompt import PromptTemplate\n",
    "import ipywidgets as widgets\n",
    "from IPython.display import display"
   ]
  },
  {
   "cell_type": "code",
   "execution_count": 14,
   "id": "536a6d79",
   "metadata": {},
   "outputs": [],
   "source": [
    "#fewShot learning \n",
    "\n",
    "fewShots= [\n",
    "    {\n",
    "     'Question' :\"which state has the longest patient stay if duration of stay is the difference between end date and start date?\",\n",
    "     'SQLQuery' :\"SELECT State, MAX(DATEDIFF(`EndDate`, `StartDate`)) AS LongestStayDuration FROM hospital_data GROUP BY State ORDER BY LongestStayDuration DESC LIMIT 5;\",\n",
    "     'SQLResult': \"Result of the SQL query\",\n",
    "     'Answer': \"IL\"\n",
    "    },\n",
    "    {\n",
    "     'Question' : \"which state has the highest percentage spend for claims paid between 1-30 days after discharge?\",\n",
    "     'SQLQuery' :\"SELECT State, MAX(`StateSpendingPercentage`) AS HighestPercentageSpend FROM hospital_data WHERE `Period` = '1 through 30 days After Discharge from Index Hospital Admission' GROUP BY `State` ORDER BY HighestPercentageSpend DESC LIMIT 1;\",\n",
    "     'SQLResult' :\"Result of the SQL query\",\n",
    "     'Answer': \"FL\"\n",
    "    },\n",
    "    {\n",
    "     'Question':\"which was the busiest month (had the most number of patients) for claims based on start and end dates?\",\n",
    "     'SQLQuery':\"SELECT EXTRACT(MONTH FROM `StartDate`) AS Month,EXTRACT(YEAR FROM `StartDate`) AS Year,COUNT(*) AS ClaimCount FROM hospital_data WHERE `StartDate` IS NOT NULL AND `EndDate` IS NOT NULL GROUP BY Month, Year ORDER BY `ClaimCount` DESC LIMIT 1;\",\n",
    "     'SQLResult':\"Result of the SQL query\",\n",
    "     'Answer': \"7, 2021\"\n",
    "    },  \n",
    "    {\n",
    "     'Question' : \"what is max discount received for any patient when comparing invoiced amount to the national average\",\n",
    "     'SQLQuery' :\"SELECT (hospital_data.`NationalAvgSpend` - patient_data.`InvoiceAmount`) as Discount FROM patient_data LEFT JOIN hospital_data ON `patient_data.HospitalID` = hospital_data.`ProviderNo` ORDER BY `Discount` LIMIT 1;\",\n",
    "     'SQLResult' :\"Result of the SQL query\",\n",
    "     'Answer': \"4131\"\n",
    "    },\n",
    "    {\n",
    "     'Question' : \"what is the most common claim for drug or alcohol users from Colorado\",\n",
    "     'SQLQuery' :\"SELECT patient_data.`DrugsAlc`, hospital_data.`ClaimType`, COUNT(*) AS ClaimCount FROM patient_data JOIN hospital_data ON patient_data.`HospitalID` = hospital_data.`ProviderNo WHERE patient_data.`DrugsAlc` = 1 GROUP BY patient_data.`DrugsAlc`, hospital_data.`ClaimType` ORDER BY `ClaimCount` DESC LIMIT 1\",\n",
    "     'SQLResult' :\"Result of the SQL query\",\n",
    "     'Answer': \"Inpatient (13)\"\n",
    "    },\n",
    "    {\n",
    "     'Question' : \"What was the largest discount when compared to state average and provided negative feedback?\",\n",
    "     'SQLQuery' :\"SELECT patient_data.`PatientID`, patient_data.`InvoiceAmount`, hospital_data.`StateAvgSpend`, patient_data.`Feedback`,(hospital_data.`StateAvgSpend` - patient_data.`InvoiceAmount`) AS Discount FROM patient_data JOIN hospital_data ON patient_data.`HospitalID` = hospital_data.`ProviderNo` WHERE patient_data.`Feedback` = -1 ORDER BY Discount DESC LIMIT 1\",\n",
    "     'SQLResult' :\"Result of the SQL query\",\n",
    "     'Answer': \"1252.37\"\n",
    "    },\n",
    "    {\n",
    "     'Question' : \"how many patients paid more than the average hospital amount during a complete episode\",\n",
    "     'SQLQuery' :\"SELECT COUNT(*) AS NumPatientsPaidMoreThanAvg FROM patient_data JOIN hospital_data ON patient_data.`HospitalID` = hospital_data.`ProviderNo` WHERE patient_data.`InvoiceAmount` > hospital_data.`HospitalAvgSpend`   AND hospital_data.`Period` = 'Complete Episode' LIMIT 0, 1000\",\n",
    "     'SQLResult' :\"Result of the SQL query\",\n",
    "     'Answer': \"1\"\n",
    "    },\n",
    "    {\n",
    "     'Question' : \"Top 3 hospitals which charged an invoice amount from their patients lower than the national average for outpatient?\",\n",
    "     'SQLQuery' :\"SELECT hospital_data.`HospitalName`,patient_data.`InvoiceAmount`, hospital_data.`NationalAvgSpend` FROM hospital_data JOIN patient_data ON patient_data.`HospitalID` = hospital_data.`ProviderNo` WHERE hospital_data.`ClaimType` = 'Outpatient'   AND patient_data.`InvoiceAmount` < hospital_data.`NationalAvgSpend` LIMIT 0, 1000\",\n",
    "     'SQLResult' :\"Result of the SQL query\",\n",
    "     'Answer': \"\"\"[('EDEN MEDICAL CENTER', 665.022455860342, 730.0), ('MARTIN GENERAL HOSPITAL', 34.4408549900072, 124.0), ('SAINT FRANCIS BARTLETT MEDICAL CENTER', 52.8388648218745, 124.0)\"\"\"\n",
    "    },\n",
    "    {\n",
    "     'Question' : \"how many patients are smokers or pregnant from Texas? How many hospitals in the same?\",\n",
    "     'SQLQuery' :\"SELECT (SELECT COUNT(*) FROM patient_data WHERE (`Smoker` = 1 OR `Pregnant` = 1) AND `HomeState` = 'TX') AS NumPatients, (SELECT COUNT(*) FROM hospital_data WHERE `State` = 'TX') AS NumHospitals LIMIT 0, 100\",\n",
    "     'SQLResult' :\"Result of the SQL query\",\n",
    "     'Answer': \"7, 14\"\n",
    "    },\n",
    "    {\n",
    "     'Question' : \"how many patients with a smoking habit and went to hospitals in their home state during index admission?\",\n",
    "     'SQLQuery' :\"SELECT COUNT(*) AS NumSmokerOutpatientPatientsInHomeState FROM patient_data JOIN hospital_data ON patient_data.`HospitalID` = hospital_data.`ProviderNo` WHERE patient_data.`Smoker` = 1   AND patient_data.`HomeState` = hospital_data.`State`   AND hospital_data.`Period` = 'During Index Hospital Admission' LIMIT 0, 100\",\n",
    "     'SQLResult':\"Result of the SQL query\",\n",
    "     'Answer': \"2\"   \n",
    "    },\n",
    "    {\n",
    "     'Question' :\"find the number of unemployed patients got treated outside their home state, and ended up getting invoiced for an amount 50% higher than the state average\",\n",
    "     'SQLQuery' :\"SELECT COUNT(*) AS NumPatients FROM patient_data JOIN hospital_data ON patient_data.`HospitalID` = hospital_data.`ProviderNo` WHERE patient_data.`Employed` = 0   AND patient_data.`HomeState` != hospital_data.`State`   AND patient_data.`InvoiceAmount` > 1.5 * hospital_data.`StateAvgSpend` LIMIT 0, 1000\",\n",
    "     'SQLResult':\"Result of the SQL query\",\n",
    "     'Answer': \"3\"\n",
    "    },\n",
    "    {\n",
    "     'Question' :\"which state had the most number of Drug/Alcohol users as patients\",\n",
    "     'SQLQuery' :\"SELECT hospital_data.`State`, COUNT(*) AS NumDrugAlcUsers FROM patient_data JOIN hospital_data ON patient_data.`HospitalID` = hospital_data.`ProviderNo` WHERE patient_data.`DrugsAlc` = 1 GROUP BY hospital_data.`State` ORDER BY NumDrugAlcUsers DESC LIMIT 1\",\n",
    "     'SQLResult':\"Result of the SQL query\",\n",
    "     'Answer': \"TX (7)\"  \n",
    "    },\n",
    "    {\n",
    "     'Question' :\"what is the average BMI for outpatients in 2022\",\n",
    "     'SQLQuery' :\"SELECT AVG(patient_data.`BMI`) AS AvgBMI FROM patient_data JOIN hospital_data ON patient_data.`HospitalID` = hospital_data.`ProviderNo` WHERE hospital_data.`ClaimType` = 'Outpatient'   AND YEAR(hospital_data.`StartDate`) = 2022 LIMIT 0, 1000\",\n",
    "     'SQLResult':\"Result of the SQL query\",\n",
    "     'Answer': \"27.86\" \n",
    "        \n",
    "    }\n",
    "   \n",
    "]"
   ]
  },
  {
   "cell_type": "code",
   "execution_count": 9,
   "id": "d6f08bb7",
   "metadata": {},
   "outputs": [],
   "source": [
    "def getfewShot():\n",
    "#Testing the Database connection\n",
    "    db_user = \"root\"\n",
    "    db_password = \"VA9999\"\n",
    "    db_host = \"localhost\"\n",
    "    db_name = \"hospital\"\n",
    "\n",
    "    #importing the MySQL db \n",
    "    db = SQLDatabase.from_uri(f\"mysql+pymysql://{db_user}:{db_password}@{db_host}/{db_name}\",sample_rows_in_table_info=3)\n",
    "    llm = GooglePalm(google_api_key=os.environ[\"GOOGLE_API_KEY\"], temperature=0.1)\n",
    "    \n",
    "    #Sentence transformer models from https://huggingface.co/sentence-transformers?sort_models=modified#models \n",
    "    #Using chromaDB for vector storage\n",
    "    \n",
    "    x = HuggingFaceEmbeddings(model_name='sentence-transformers/all-MiniLM-L12-v2')\n",
    "    v = [\" \".join(i.values()) for i in fewShots]\n",
    "    vectorstore = Chroma.from_texts(v, x, metadatas=fewShots)\n",
    "    example_selector = SemanticSimilarityExampleSelector(vectorstore=vectorstore,k=2,)\n",
    "    \n",
    "    #from langchain.chains.sql_database.prompt import PROMPT_SUFFIX, _mysql_prompt\n",
    "    #from langchain.prompts.prompt import PromptTemplate\n",
    "\n",
    "    mysql_prompt = \"\"\"You are a MySQL expert. Given an input question, first create a syntactically correct MySQL query to run, then look at the results of the query and return the answer to the input question.\n",
    "    Unless the user specifies in the question a specific number of examples to obtain, query for at most {top_k} results using the LIMIT clause as per MySQL. You can order the results to return the most informative data in the database.\n",
    "    Never query for all columns from a table. You must query only the columns that are needed to answer the question. Wrap each column name in backticks (`) to denote them as delimited identifiers.\n",
    "    Pay attention to use only the column names you can see in the tables below, and make sure to reference the right columns from the right tables. Be careful to not query for columns that do not exist. Also, pay attention to which column is in which table and use joins to find synergies between tables.\n",
    "    Pay attention to use CURDATE() function to get the current date, if the question involves \"today\".\n",
    "    \n",
    "    Use the following format:\n",
    "    \n",
    "    Question: Question here\n",
    "    SQLQuery: Query to run with no pre-amble\n",
    "    SQLResult: Result of the SQLQuery\n",
    "    Answer: Final answer here\n",
    "    \n",
    "    No pre-amble.\"\"\"\n",
    "    \n",
    "    \n",
    "    example_prompt = PromptTemplate(\n",
    "        input_variables=[\"Question\", \"SQLQuery\", \"SQLResult\",\"Answer\",],\n",
    "        template=\"\\nQuestion: {Question}\\nSQLQuery: {SQLQuery}\\nSQLResult: {SQLResult}\\nAnswer: {Answer}\",)\n",
    "    \n",
    "    #Creating a prompt \n",
    "    \n",
    "    fewShot_prompt = FewShotPromptTemplate(\n",
    "        example_selector=example_selector,\n",
    "        example_prompt=example_prompt,\n",
    "        prefix=mysql_prompt,\n",
    "        suffix=PROMPT_SUFFIX,\n",
    "        input_variables=[\"input\", \"table_info\", \"top_k\"],)\n",
    "\n",
    "    chain = SQLDatabaseChain.from_llm(llm, db, verbose=True, prompt=fewShot_prompt)\n",
    "    return chain"
   ]
  },
  {
   "cell_type": "code",
   "execution_count": 10,
   "id": "85aed03d",
   "metadata": {
    "collapsed": true
   },
   "outputs": [
    {
     "name": "stderr",
     "output_type": "stream",
     "text": [
      "C:\\Users\\vamsi\\anaconda3\\lib\\site-packages\\scipy\\__init__.py:146: UserWarning: A NumPy version >=1.16.5 and <1.23.0 is required for this version of SciPy (detected version 1.26.3\n",
      "  warnings.warn(f\"A NumPy version >={np_minversion} and <{np_maxversion}\"\n"
     ]
    },
    {
     "name": "stdout",
     "output_type": "stream",
     "text": [
      "\n",
      "\n",
      "\u001b[1m> Entering new SQLDatabaseChain chain...\u001b[0m\n",
      "what is the most common claim for smokers in florida?\n",
      "SQLQuery:"
     ]
    },
    {
     "ename": "IndexError",
     "evalue": "list index out of range",
     "output_type": "error",
     "traceback": [
      "\u001b[1;31m---------------------------------------------------------------------------\u001b[0m",
      "\u001b[1;31mIndexError\u001b[0m                                Traceback (most recent call last)",
      "\u001b[1;32m~\\AppData\\Local\\Temp/ipykernel_29320/422522597.py\u001b[0m in \u001b[0;36m<module>\u001b[1;34m\u001b[0m\n\u001b[0;32m      1\u001b[0m \u001b[0mchain\u001b[0m \u001b[1;33m=\u001b[0m \u001b[0mgetfewShot\u001b[0m\u001b[1;33m(\u001b[0m\u001b[1;33m)\u001b[0m\u001b[1;33m\u001b[0m\u001b[1;33m\u001b[0m\u001b[0m\n\u001b[1;32m----> 2\u001b[1;33m \u001b[0mresponse\u001b[0m \u001b[1;33m=\u001b[0m \u001b[0mchain\u001b[0m\u001b[1;33m.\u001b[0m\u001b[0minvoke\u001b[0m\u001b[1;33m(\u001b[0m\u001b[1;34m\"what is the most common claim for smokers in florida?\"\u001b[0m\u001b[1;33m)\u001b[0m\u001b[1;33m\u001b[0m\u001b[1;33m\u001b[0m\u001b[0m\n\u001b[0m",
      "\u001b[1;32m~\\anaconda3\\lib\\site-packages\\langchain\\chains\\base.py\u001b[0m in \u001b[0;36minvoke\u001b[1;34m(self, input, config, **kwargs)\u001b[0m\n\u001b[0;32m    160\u001b[0m         \u001b[1;32mexcept\u001b[0m \u001b[0mBaseException\u001b[0m \u001b[1;32mas\u001b[0m \u001b[0me\u001b[0m\u001b[1;33m:\u001b[0m\u001b[1;33m\u001b[0m\u001b[1;33m\u001b[0m\u001b[0m\n\u001b[0;32m    161\u001b[0m             \u001b[0mrun_manager\u001b[0m\u001b[1;33m.\u001b[0m\u001b[0mon_chain_error\u001b[0m\u001b[1;33m(\u001b[0m\u001b[0me\u001b[0m\u001b[1;33m)\u001b[0m\u001b[1;33m\u001b[0m\u001b[1;33m\u001b[0m\u001b[0m\n\u001b[1;32m--> 162\u001b[1;33m             \u001b[1;32mraise\u001b[0m \u001b[0me\u001b[0m\u001b[1;33m\u001b[0m\u001b[1;33m\u001b[0m\u001b[0m\n\u001b[0m\u001b[0;32m    163\u001b[0m         \u001b[0mrun_manager\u001b[0m\u001b[1;33m.\u001b[0m\u001b[0mon_chain_end\u001b[0m\u001b[1;33m(\u001b[0m\u001b[0moutputs\u001b[0m\u001b[1;33m)\u001b[0m\u001b[1;33m\u001b[0m\u001b[1;33m\u001b[0m\u001b[0m\n\u001b[0;32m    164\u001b[0m         final_outputs: Dict[str, Any] = self.prep_outputs(\n",
      "\u001b[1;32m~\\anaconda3\\lib\\site-packages\\langchain\\chains\\base.py\u001b[0m in \u001b[0;36minvoke\u001b[1;34m(self, input, config, **kwargs)\u001b[0m\n\u001b[0;32m    154\u001b[0m         \u001b[1;32mtry\u001b[0m\u001b[1;33m:\u001b[0m\u001b[1;33m\u001b[0m\u001b[1;33m\u001b[0m\u001b[0m\n\u001b[0;32m    155\u001b[0m             outputs = (\n\u001b[1;32m--> 156\u001b[1;33m                 \u001b[0mself\u001b[0m\u001b[1;33m.\u001b[0m\u001b[0m_call\u001b[0m\u001b[1;33m(\u001b[0m\u001b[0minputs\u001b[0m\u001b[1;33m,\u001b[0m \u001b[0mrun_manager\u001b[0m\u001b[1;33m=\u001b[0m\u001b[0mrun_manager\u001b[0m\u001b[1;33m)\u001b[0m\u001b[1;33m\u001b[0m\u001b[1;33m\u001b[0m\u001b[0m\n\u001b[0m\u001b[0;32m    157\u001b[0m                 \u001b[1;32mif\u001b[0m \u001b[0mnew_arg_supported\u001b[0m\u001b[1;33m\u001b[0m\u001b[1;33m\u001b[0m\u001b[0m\n\u001b[0;32m    158\u001b[0m                 \u001b[1;32melse\u001b[0m \u001b[0mself\u001b[0m\u001b[1;33m.\u001b[0m\u001b[0m_call\u001b[0m\u001b[1;33m(\u001b[0m\u001b[0minputs\u001b[0m\u001b[1;33m)\u001b[0m\u001b[1;33m\u001b[0m\u001b[1;33m\u001b[0m\u001b[0m\n",
      "\u001b[1;32m~\\anaconda3\\lib\\site-packages\\langchain_experimental\\sql\\base.py\u001b[0m in \u001b[0;36m_call\u001b[1;34m(self, inputs, run_manager)\u001b[0m\n\u001b[0;32m    199\u001b[0m             \u001b[1;31m# improvement of few shot prompt seeds\u001b[0m\u001b[1;33m\u001b[0m\u001b[1;33m\u001b[0m\u001b[0m\n\u001b[0;32m    200\u001b[0m             \u001b[0mexc\u001b[0m\u001b[1;33m.\u001b[0m\u001b[0mintermediate_steps\u001b[0m \u001b[1;33m=\u001b[0m \u001b[0mintermediate_steps\u001b[0m  \u001b[1;31m# type: ignore\u001b[0m\u001b[1;33m\u001b[0m\u001b[1;33m\u001b[0m\u001b[0m\n\u001b[1;32m--> 201\u001b[1;33m             \u001b[1;32mraise\u001b[0m \u001b[0mexc\u001b[0m\u001b[1;33m\u001b[0m\u001b[1;33m\u001b[0m\u001b[0m\n\u001b[0m\u001b[0;32m    202\u001b[0m \u001b[1;33m\u001b[0m\u001b[0m\n\u001b[0;32m    203\u001b[0m     \u001b[1;33m@\u001b[0m\u001b[0mproperty\u001b[0m\u001b[1;33m\u001b[0m\u001b[1;33m\u001b[0m\u001b[0m\n",
      "\u001b[1;32m~\\anaconda3\\lib\\site-packages\\langchain_experimental\\sql\\base.py\u001b[0m in \u001b[0;36m_call\u001b[1;34m(self, inputs, run_manager)\u001b[0m\n\u001b[0;32m    130\u001b[0m         \u001b[1;32mtry\u001b[0m\u001b[1;33m:\u001b[0m\u001b[1;33m\u001b[0m\u001b[1;33m\u001b[0m\u001b[0m\n\u001b[0;32m    131\u001b[0m             \u001b[0mintermediate_steps\u001b[0m\u001b[1;33m.\u001b[0m\u001b[0mappend\u001b[0m\u001b[1;33m(\u001b[0m\u001b[0mllm_inputs\u001b[0m\u001b[1;33m.\u001b[0m\u001b[0mcopy\u001b[0m\u001b[1;33m(\u001b[0m\u001b[1;33m)\u001b[0m\u001b[1;33m)\u001b[0m  \u001b[1;31m# input: sql generation\u001b[0m\u001b[1;33m\u001b[0m\u001b[1;33m\u001b[0m\u001b[0m\n\u001b[1;32m--> 132\u001b[1;33m             sql_cmd = self.llm_chain.predict(\n\u001b[0m\u001b[0;32m    133\u001b[0m                 \u001b[0mcallbacks\u001b[0m\u001b[1;33m=\u001b[0m\u001b[0m_run_manager\u001b[0m\u001b[1;33m.\u001b[0m\u001b[0mget_child\u001b[0m\u001b[1;33m(\u001b[0m\u001b[1;33m)\u001b[0m\u001b[1;33m,\u001b[0m\u001b[1;33m\u001b[0m\u001b[1;33m\u001b[0m\u001b[0m\n\u001b[0;32m    134\u001b[0m                 \u001b[1;33m**\u001b[0m\u001b[0mllm_inputs\u001b[0m\u001b[1;33m,\u001b[0m\u001b[1;33m\u001b[0m\u001b[1;33m\u001b[0m\u001b[0m\n",
      "\u001b[1;32m~\\anaconda3\\lib\\site-packages\\langchain\\chains\\llm.py\u001b[0m in \u001b[0;36mpredict\u001b[1;34m(self, callbacks, **kwargs)\u001b[0m\n\u001b[0;32m    291\u001b[0m                 \u001b[0mcompletion\u001b[0m \u001b[1;33m=\u001b[0m \u001b[0mllm\u001b[0m\u001b[1;33m.\u001b[0m\u001b[0mpredict\u001b[0m\u001b[1;33m(\u001b[0m\u001b[0madjective\u001b[0m\u001b[1;33m=\u001b[0m\u001b[1;34m\"funny\"\u001b[0m\u001b[1;33m)\u001b[0m\u001b[1;33m\u001b[0m\u001b[1;33m\u001b[0m\u001b[0m\n\u001b[0;32m    292\u001b[0m         \"\"\"\n\u001b[1;32m--> 293\u001b[1;33m         \u001b[1;32mreturn\u001b[0m \u001b[0mself\u001b[0m\u001b[1;33m(\u001b[0m\u001b[0mkwargs\u001b[0m\u001b[1;33m,\u001b[0m \u001b[0mcallbacks\u001b[0m\u001b[1;33m=\u001b[0m\u001b[0mcallbacks\u001b[0m\u001b[1;33m)\u001b[0m\u001b[1;33m[\u001b[0m\u001b[0mself\u001b[0m\u001b[1;33m.\u001b[0m\u001b[0moutput_key\u001b[0m\u001b[1;33m]\u001b[0m\u001b[1;33m\u001b[0m\u001b[1;33m\u001b[0m\u001b[0m\n\u001b[0m\u001b[0;32m    294\u001b[0m \u001b[1;33m\u001b[0m\u001b[0m\n\u001b[0;32m    295\u001b[0m     \u001b[1;32masync\u001b[0m \u001b[1;32mdef\u001b[0m \u001b[0mapredict\u001b[0m\u001b[1;33m(\u001b[0m\u001b[0mself\u001b[0m\u001b[1;33m,\u001b[0m \u001b[0mcallbacks\u001b[0m\u001b[1;33m:\u001b[0m \u001b[0mCallbacks\u001b[0m \u001b[1;33m=\u001b[0m \u001b[1;32mNone\u001b[0m\u001b[1;33m,\u001b[0m \u001b[1;33m**\u001b[0m\u001b[0mkwargs\u001b[0m\u001b[1;33m:\u001b[0m \u001b[0mAny\u001b[0m\u001b[1;33m)\u001b[0m \u001b[1;33m->\u001b[0m \u001b[0mstr\u001b[0m\u001b[1;33m:\u001b[0m\u001b[1;33m\u001b[0m\u001b[1;33m\u001b[0m\u001b[0m\n",
      "\u001b[1;32m~\\anaconda3\\lib\\site-packages\\langchain_core\\_api\\deprecation.py\u001b[0m in \u001b[0;36mwarning_emitting_wrapper\u001b[1;34m(*args, **kwargs)\u001b[0m\n\u001b[0;32m    143\u001b[0m                 \u001b[0mwarned\u001b[0m \u001b[1;33m=\u001b[0m \u001b[1;32mTrue\u001b[0m\u001b[1;33m\u001b[0m\u001b[1;33m\u001b[0m\u001b[0m\n\u001b[0;32m    144\u001b[0m                 \u001b[0memit_warning\u001b[0m\u001b[1;33m(\u001b[0m\u001b[1;33m)\u001b[0m\u001b[1;33m\u001b[0m\u001b[1;33m\u001b[0m\u001b[0m\n\u001b[1;32m--> 145\u001b[1;33m             \u001b[1;32mreturn\u001b[0m \u001b[0mwrapped\u001b[0m\u001b[1;33m(\u001b[0m\u001b[1;33m*\u001b[0m\u001b[0margs\u001b[0m\u001b[1;33m,\u001b[0m \u001b[1;33m**\u001b[0m\u001b[0mkwargs\u001b[0m\u001b[1;33m)\u001b[0m\u001b[1;33m\u001b[0m\u001b[1;33m\u001b[0m\u001b[0m\n\u001b[0m\u001b[0;32m    146\u001b[0m \u001b[1;33m\u001b[0m\u001b[0m\n\u001b[0;32m    147\u001b[0m         \u001b[1;32mif\u001b[0m \u001b[0misinstance\u001b[0m\u001b[1;33m(\u001b[0m\u001b[0mobj\u001b[0m\u001b[1;33m,\u001b[0m \u001b[0mtype\u001b[0m\u001b[1;33m)\u001b[0m\u001b[1;33m:\u001b[0m\u001b[1;33m\u001b[0m\u001b[1;33m\u001b[0m\u001b[0m\n",
      "\u001b[1;32m~\\anaconda3\\lib\\site-packages\\langchain\\chains\\base.py\u001b[0m in \u001b[0;36m__call__\u001b[1;34m(self, inputs, return_only_outputs, callbacks, tags, metadata, run_name, include_run_info)\u001b[0m\n\u001b[0;32m    361\u001b[0m         }\n\u001b[0;32m    362\u001b[0m \u001b[1;33m\u001b[0m\u001b[0m\n\u001b[1;32m--> 363\u001b[1;33m         return self.invoke(\n\u001b[0m\u001b[0;32m    364\u001b[0m             \u001b[0minputs\u001b[0m\u001b[1;33m,\u001b[0m\u001b[1;33m\u001b[0m\u001b[1;33m\u001b[0m\u001b[0m\n\u001b[0;32m    365\u001b[0m             \u001b[0mcast\u001b[0m\u001b[1;33m(\u001b[0m\u001b[0mRunnableConfig\u001b[0m\u001b[1;33m,\u001b[0m \u001b[1;33m{\u001b[0m\u001b[0mk\u001b[0m\u001b[1;33m:\u001b[0m \u001b[0mv\u001b[0m \u001b[1;32mfor\u001b[0m \u001b[0mk\u001b[0m\u001b[1;33m,\u001b[0m \u001b[0mv\u001b[0m \u001b[1;32min\u001b[0m \u001b[0mconfig\u001b[0m\u001b[1;33m.\u001b[0m\u001b[0mitems\u001b[0m\u001b[1;33m(\u001b[0m\u001b[1;33m)\u001b[0m \u001b[1;32mif\u001b[0m \u001b[0mv\u001b[0m \u001b[1;32mis\u001b[0m \u001b[1;32mnot\u001b[0m \u001b[1;32mNone\u001b[0m\u001b[1;33m}\u001b[0m\u001b[1;33m)\u001b[0m\u001b[1;33m,\u001b[0m\u001b[1;33m\u001b[0m\u001b[1;33m\u001b[0m\u001b[0m\n",
      "\u001b[1;32m~\\anaconda3\\lib\\site-packages\\langchain\\chains\\base.py\u001b[0m in \u001b[0;36minvoke\u001b[1;34m(self, input, config, **kwargs)\u001b[0m\n\u001b[0;32m    160\u001b[0m         \u001b[1;32mexcept\u001b[0m \u001b[0mBaseException\u001b[0m \u001b[1;32mas\u001b[0m \u001b[0me\u001b[0m\u001b[1;33m:\u001b[0m\u001b[1;33m\u001b[0m\u001b[1;33m\u001b[0m\u001b[0m\n\u001b[0;32m    161\u001b[0m             \u001b[0mrun_manager\u001b[0m\u001b[1;33m.\u001b[0m\u001b[0mon_chain_error\u001b[0m\u001b[1;33m(\u001b[0m\u001b[0me\u001b[0m\u001b[1;33m)\u001b[0m\u001b[1;33m\u001b[0m\u001b[1;33m\u001b[0m\u001b[0m\n\u001b[1;32m--> 162\u001b[1;33m             \u001b[1;32mraise\u001b[0m \u001b[0me\u001b[0m\u001b[1;33m\u001b[0m\u001b[1;33m\u001b[0m\u001b[0m\n\u001b[0m\u001b[0;32m    163\u001b[0m         \u001b[0mrun_manager\u001b[0m\u001b[1;33m.\u001b[0m\u001b[0mon_chain_end\u001b[0m\u001b[1;33m(\u001b[0m\u001b[0moutputs\u001b[0m\u001b[1;33m)\u001b[0m\u001b[1;33m\u001b[0m\u001b[1;33m\u001b[0m\u001b[0m\n\u001b[0;32m    164\u001b[0m         final_outputs: Dict[str, Any] = self.prep_outputs(\n",
      "\u001b[1;32m~\\anaconda3\\lib\\site-packages\\langchain\\chains\\base.py\u001b[0m in \u001b[0;36minvoke\u001b[1;34m(self, input, config, **kwargs)\u001b[0m\n\u001b[0;32m    154\u001b[0m         \u001b[1;32mtry\u001b[0m\u001b[1;33m:\u001b[0m\u001b[1;33m\u001b[0m\u001b[1;33m\u001b[0m\u001b[0m\n\u001b[0;32m    155\u001b[0m             outputs = (\n\u001b[1;32m--> 156\u001b[1;33m                 \u001b[0mself\u001b[0m\u001b[1;33m.\u001b[0m\u001b[0m_call\u001b[0m\u001b[1;33m(\u001b[0m\u001b[0minputs\u001b[0m\u001b[1;33m,\u001b[0m \u001b[0mrun_manager\u001b[0m\u001b[1;33m=\u001b[0m\u001b[0mrun_manager\u001b[0m\u001b[1;33m)\u001b[0m\u001b[1;33m\u001b[0m\u001b[1;33m\u001b[0m\u001b[0m\n\u001b[0m\u001b[0;32m    157\u001b[0m                 \u001b[1;32mif\u001b[0m \u001b[0mnew_arg_supported\u001b[0m\u001b[1;33m\u001b[0m\u001b[1;33m\u001b[0m\u001b[0m\n\u001b[0;32m    158\u001b[0m                 \u001b[1;32melse\u001b[0m \u001b[0mself\u001b[0m\u001b[1;33m.\u001b[0m\u001b[0m_call\u001b[0m\u001b[1;33m(\u001b[0m\u001b[0minputs\u001b[0m\u001b[1;33m)\u001b[0m\u001b[1;33m\u001b[0m\u001b[1;33m\u001b[0m\u001b[0m\n",
      "\u001b[1;32m~\\anaconda3\\lib\\site-packages\\langchain\\chains\\llm.py\u001b[0m in \u001b[0;36m_call\u001b[1;34m(self, inputs, run_manager)\u001b[0m\n\u001b[0;32m    102\u001b[0m     ) -> Dict[str, str]:\n\u001b[0;32m    103\u001b[0m         \u001b[0mresponse\u001b[0m \u001b[1;33m=\u001b[0m \u001b[0mself\u001b[0m\u001b[1;33m.\u001b[0m\u001b[0mgenerate\u001b[0m\u001b[1;33m(\u001b[0m\u001b[1;33m[\u001b[0m\u001b[0minputs\u001b[0m\u001b[1;33m]\u001b[0m\u001b[1;33m,\u001b[0m \u001b[0mrun_manager\u001b[0m\u001b[1;33m=\u001b[0m\u001b[0mrun_manager\u001b[0m\u001b[1;33m)\u001b[0m\u001b[1;33m\u001b[0m\u001b[1;33m\u001b[0m\u001b[0m\n\u001b[1;32m--> 104\u001b[1;33m         \u001b[1;32mreturn\u001b[0m \u001b[0mself\u001b[0m\u001b[1;33m.\u001b[0m\u001b[0mcreate_outputs\u001b[0m\u001b[1;33m(\u001b[0m\u001b[0mresponse\u001b[0m\u001b[1;33m)\u001b[0m\u001b[1;33m[\u001b[0m\u001b[1;36m0\u001b[0m\u001b[1;33m]\u001b[0m\u001b[1;33m\u001b[0m\u001b[1;33m\u001b[0m\u001b[0m\n\u001b[0m\u001b[0;32m    105\u001b[0m \u001b[1;33m\u001b[0m\u001b[0m\n\u001b[0;32m    106\u001b[0m     def generate(\n",
      "\u001b[1;32m~\\anaconda3\\lib\\site-packages\\langchain\\chains\\llm.py\u001b[0m in \u001b[0;36mcreate_outputs\u001b[1;34m(self, llm_result)\u001b[0m\n\u001b[0;32m    256\u001b[0m     \u001b[1;32mdef\u001b[0m \u001b[0mcreate_outputs\u001b[0m\u001b[1;33m(\u001b[0m\u001b[0mself\u001b[0m\u001b[1;33m,\u001b[0m \u001b[0mllm_result\u001b[0m\u001b[1;33m:\u001b[0m \u001b[0mLLMResult\u001b[0m\u001b[1;33m)\u001b[0m \u001b[1;33m->\u001b[0m \u001b[0mList\u001b[0m\u001b[1;33m[\u001b[0m\u001b[0mDict\u001b[0m\u001b[1;33m[\u001b[0m\u001b[0mstr\u001b[0m\u001b[1;33m,\u001b[0m \u001b[0mAny\u001b[0m\u001b[1;33m]\u001b[0m\u001b[1;33m]\u001b[0m\u001b[1;33m:\u001b[0m\u001b[1;33m\u001b[0m\u001b[1;33m\u001b[0m\u001b[0m\n\u001b[0;32m    257\u001b[0m         \u001b[1;34m\"\"\"Create outputs from response.\"\"\"\u001b[0m\u001b[1;33m\u001b[0m\u001b[1;33m\u001b[0m\u001b[0m\n\u001b[1;32m--> 258\u001b[1;33m         result = [\n\u001b[0m\u001b[0;32m    259\u001b[0m             \u001b[1;31m# Get the text of the top generated string.\u001b[0m\u001b[1;33m\u001b[0m\u001b[1;33m\u001b[0m\u001b[0m\n\u001b[0;32m    260\u001b[0m             {\n",
      "\u001b[1;32m~\\anaconda3\\lib\\site-packages\\langchain\\chains\\llm.py\u001b[0m in \u001b[0;36m<listcomp>\u001b[1;34m(.0)\u001b[0m\n\u001b[0;32m    259\u001b[0m             \u001b[1;31m# Get the text of the top generated string.\u001b[0m\u001b[1;33m\u001b[0m\u001b[1;33m\u001b[0m\u001b[0m\n\u001b[0;32m    260\u001b[0m             {\n\u001b[1;32m--> 261\u001b[1;33m                 \u001b[0mself\u001b[0m\u001b[1;33m.\u001b[0m\u001b[0moutput_key\u001b[0m\u001b[1;33m:\u001b[0m \u001b[0mself\u001b[0m\u001b[1;33m.\u001b[0m\u001b[0moutput_parser\u001b[0m\u001b[1;33m.\u001b[0m\u001b[0mparse_result\u001b[0m\u001b[1;33m(\u001b[0m\u001b[0mgeneration\u001b[0m\u001b[1;33m)\u001b[0m\u001b[1;33m,\u001b[0m\u001b[1;33m\u001b[0m\u001b[1;33m\u001b[0m\u001b[0m\n\u001b[0m\u001b[0;32m    262\u001b[0m                 \u001b[1;34m\"full_generation\"\u001b[0m\u001b[1;33m:\u001b[0m \u001b[0mgeneration\u001b[0m\u001b[1;33m,\u001b[0m\u001b[1;33m\u001b[0m\u001b[1;33m\u001b[0m\u001b[0m\n\u001b[0;32m    263\u001b[0m             }\n",
      "\u001b[1;32m~\\anaconda3\\lib\\site-packages\\langchain_core\\output_parsers\\base.py\u001b[0m in \u001b[0;36mparse_result\u001b[1;34m(self, result, partial)\u001b[0m\n\u001b[0;32m    217\u001b[0m             \u001b[0mStructured\u001b[0m \u001b[0moutput\u001b[0m\u001b[1;33m.\u001b[0m\u001b[1;33m\u001b[0m\u001b[1;33m\u001b[0m\u001b[0m\n\u001b[0;32m    218\u001b[0m         \"\"\"\n\u001b[1;32m--> 219\u001b[1;33m         \u001b[1;32mreturn\u001b[0m \u001b[0mself\u001b[0m\u001b[1;33m.\u001b[0m\u001b[0mparse\u001b[0m\u001b[1;33m(\u001b[0m\u001b[0mresult\u001b[0m\u001b[1;33m[\u001b[0m\u001b[1;36m0\u001b[0m\u001b[1;33m]\u001b[0m\u001b[1;33m.\u001b[0m\u001b[0mtext\u001b[0m\u001b[1;33m)\u001b[0m\u001b[1;33m\u001b[0m\u001b[1;33m\u001b[0m\u001b[0m\n\u001b[0m\u001b[0;32m    220\u001b[0m \u001b[1;33m\u001b[0m\u001b[0m\n\u001b[0;32m    221\u001b[0m     \u001b[1;33m@\u001b[0m\u001b[0mabstractmethod\u001b[0m\u001b[1;33m\u001b[0m\u001b[1;33m\u001b[0m\u001b[0m\n",
      "\u001b[1;31mIndexError\u001b[0m: list index out of range"
     ]
    }
   ],
   "source": [
    "chain = getfewShot()\n",
    "response = chain.invoke(\"what is the most common claim for smokers in florida?\")"
   ]
  },
  {
   "cell_type": "code",
   "execution_count": 12,
   "id": "82f6e7d7",
   "metadata": {
    "scrolled": true
   },
   "outputs": [],
   "source": [
    "def runQuery(question):\n",
    "    \n",
    "    chain = getfewShot()\n",
    "    response = chain.invoke(question)\n",
    "    return response\n",
    "\n",
    "def OnButtonClick(b):\n",
    "    question = question_input.value\n",
    "    if question:\n",
    "        answer_output.value = f\"Response: {runQuery(question)}\"\n",
    "    else:\n",
    "        answer_output.value = \"Please enter a question.\"\n",
    "\n",
    "# Widgets\n",
    "question_input = widgets.Text(description=\"Question:\")\n",
    "submit_button = widgets.Button(description=\"Get Answer\")\n",
    "answer_output = widgets.HTML(value=\"\")\n",
    "\n",
    "# Event handling\n",
    "submit_button.on_click(OnButtonClick)\n",
    "\n",
    "\n",
    "layout = widgets.VBox([question_input, submit_button, answer_output])\n"
   ]
  },
  {
   "cell_type": "code",
   "execution_count": 16,
   "id": "7e1ece07",
   "metadata": {},
   "outputs": [
    {
     "data": {
      "application/vnd.jupyter.widget-view+json": {
       "model_id": "42fab85922714de0a5f41262487dac72",
       "version_major": 2,
       "version_minor": 0
      },
      "text/plain": [
       "VBox(children=(Text(value='what is the most common claim for drug or alcohol users from Colorado', description…"
      ]
     },
     "metadata": {},
     "output_type": "display_data"
    },
    {
     "name": "stdout",
     "output_type": "stream",
     "text": [
      "\n",
      "\n",
      "\u001b[1m> Entering new SQLDatabaseChain chain...\u001b[0m\n",
      "Top 3 hospitals which charged an invoice amount from their patients lower than the national average for outpatient?\n",
      "SQLQuery:\u001b[32;1m\u001b[1;3mSELECT hospital_data.`HospitalName`,patient_data.`InvoiceAmount`, hospital_data.`NationalAvgSpend` FROM hospital_data JOIN patient_data ON patient_data.`HospitalID` = hospital_data.`ProviderNo` WHERE hospital_data.`ClaimType` = 'Outpatient'   AND patient_data.`InvoiceAmount` < hospital_data.`NationalAvgSpend` LIMIT 0, 1000\u001b[0m\n",
      "SQLResult: \u001b[33;1m\u001b[1;3m[('EDEN MEDICAL CENTER', 665.022455860342, 730.0), ('MARTIN GENERAL HOSPITAL', 34.4408549900072, 124.0), ('SAINT FRANCIS BARTLETT MEDICAL CENTER', 52.8388648218745, 124.0), (\"ST MARY'S HOSPITAL ( TROY )\", 34.4764545613014, 124.0)]\u001b[0m\n",
      "Answer:\u001b[32;1m\u001b[1;3m['EDEN MEDICAL CENTER', 'MARTIN GENERAL HOSPITAL', 'SAINT FRANCIS BARTLETT MEDICAL CENTER', 'ST MARY'S HOSPITAL ( TROY )']\u001b[0m\n",
      "\u001b[1m> Finished chain.\u001b[0m\n",
      "\n",
      "\n",
      "\u001b[1m> Entering new SQLDatabaseChain chain...\u001b[0m\n",
      "which illinois hospital charged the highest invoice amount for patients over 40 \n",
      "SQLQuery:\u001b[32;1m\u001b[1;3mSELECT hospital_data.`HospitalName`, patient_data.`InvoiceAmount` FROM hospital_data JOIN patient_data ON patient_data.`HospitalID` = hospital_data.`ProviderNo` WHERE hospital_data.`State` = 'IL' AND patient_data.`Age` > 40 ORDER BY patient_data.`InvoiceAmount` DESC LIMIT 1\u001b[0m\n",
      "SQLResult: \u001b[33;1m\u001b[1;3m[('EDWARD HOSPITAL', 1136.16624400157)]\u001b[0m\n",
      "Answer:\u001b[32;1m\u001b[1;3mEDWARD HOSPITAL\u001b[0m\n",
      "\u001b[1m> Finished chain.\u001b[0m\n"
     ]
    }
   ],
   "source": [
    "display(layout)"
   ]
  }
 ],
 "metadata": {
  "kernelspec": {
   "display_name": "Python 3 (ipykernel)",
   "language": "python",
   "name": "python3"
  },
  "language_info": {
   "codemirror_mode": {
    "name": "ipython",
    "version": 3
   },
   "file_extension": ".py",
   "mimetype": "text/x-python",
   "name": "python",
   "nbconvert_exporter": "python",
   "pygments_lexer": "ipython3",
   "version": "3.9.7"
  }
 },
 "nbformat": 4,
 "nbformat_minor": 5
}
