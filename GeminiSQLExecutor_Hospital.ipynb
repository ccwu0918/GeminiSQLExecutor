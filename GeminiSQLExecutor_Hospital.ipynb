{
  "cells": [
    {
      "cell_type": "markdown",
      "metadata": {
        "id": "view-in-github",
        "colab_type": "text"
      },
      "source": [
        "<a href=\"https://colab.research.google.com/github/ccwu0918/GeminiSQLExecutor/blob/main/GeminiSQLExecutor_Hospital.ipynb\" target=\"_parent\"><img src=\"https://colab.research.google.com/assets/colab-badge.svg\" alt=\"Open In Colab\"/></a>"
      ]
    },
    {
      "cell_type": "code",
      "execution_count": null,
      "metadata": {
        "colab": {
          "base_uri": "https://localhost:8080/"
        },
        "id": "S6QAJ7hNEV0V",
        "outputId": "e105a7cc-db33-4848-8fd2-dc1555295aeb"
      },
      "outputs": [
        {
          "name": "stdout",
          "output_type": "stream",
          "text": [
            "Cloning into 'GeminiSQLExecutor'...\n",
            "remote: Enumerating objects: 34, done.\u001b[K\n",
            "remote: Counting objects: 100% (34/34), done.\u001b[K\n",
            "remote: Compressing objects: 100% (33/33), done.\u001b[K\n",
            "remote: Total 34 (delta 14), reused 0 (delta 0), pack-reused 0\u001b[K\n",
            "Receiving objects: 100% (34/34), 28.95 KiB | 9.65 MiB/s, done.\n",
            "Resolving deltas: 100% (14/14), done.\n"
          ]
        }
      ],
      "source": [
        "\n",
        "!git clone https://github.com/ccwu0918/GeminiSQLExecutor.git"
      ],
      "id": "S6QAJ7hNEV0V"
    },
    {
      "cell_type": "code",
      "execution_count": null,
      "metadata": {
        "colab": {
          "base_uri": "https://localhost:8080/"
        },
        "id": "upFFkBEp-dX6",
        "outputId": "35306bab-9a22-4f81-8f3e-79181bb832ee"
      },
      "outputs": [
        {
          "name": "stdout",
          "output_type": "stream",
          "text": [
            "\u001b[2K     \u001b[90m━━━━━━━━━━━━━━━━━━━━━━━━━━━━━━━━━━━━━━━━\u001b[0m \u001b[32m21.5/21.5 MB\u001b[0m \u001b[31m59.0 MB/s\u001b[0m eta \u001b[36m0:00:00\u001b[0m\n",
            "\u001b[?25h"
          ]
        }
      ],
      "source": [
        "!pip install -q mysql-connector-python"
      ],
      "id": "upFFkBEp-dX6"
    },
    {
      "cell_type": "code",
      "execution_count": null,
      "metadata": {
        "id": "jghNfDFZ-dF3"
      },
      "outputs": [],
      "source": [
        "!apt-get -y -q install mysql-server"
      ],
      "id": "jghNfDFZ-dF3"
    },
    {
      "cell_type": "code",
      "execution_count": null,
      "metadata": {
        "colab": {
          "base_uri": "https://localhost:8080/"
        },
        "id": "_7E8FEnj-c2M",
        "outputId": "acaba243-e844-4a94-b96c-fc77ef9440a0"
      },
      "outputs": [
        {
          "name": "stdout",
          "output_type": "stream",
          "text": [
            " * Starting MySQL database server mysqld\n",
            "su: warning: cannot change directory to /nonexistent: No such file or directory\n",
            "   ...done.\n"
          ]
        }
      ],
      "source": [
        "!service mysql start"
      ],
      "id": "_7E8FEnj-c2M"
    },
    {
      "cell_type": "code",
      "execution_count": null,
      "metadata": {
        "id": "5kX4thRY-cqF"
      },
      "outputs": [],
      "source": [
        "!mysql -e \"ALTER USER 'root'@'localhost' IDENTIFIED WITH 'mysql_native_password' BY 'root';FLUSH PRIVILEGES;\""
      ],
      "id": "5kX4thRY-cqF"
    },
    {
      "cell_type": "code",
      "execution_count": null,
      "metadata": {
        "colab": {
          "base_uri": "https://localhost:8080/"
        },
        "id": "JCcqF7dfFDFK",
        "outputId": "e4f95309-81d2-4807-b6ad-841275e8267a"
      },
      "outputs": [
        {
          "name": "stdout",
          "output_type": "stream",
          "text": [
            "/content/GeminiSQLExecutor\n"
          ]
        }
      ],
      "source": [
        "%cd GeminiSQLExecutor"
      ],
      "id": "JCcqF7dfFDFK"
    },
    {
      "cell_type": "code",
      "execution_count": null,
      "metadata": {
        "colab": {
          "base_uri": "https://localhost:8080/"
        },
        "id": "aD7yyD__FGOJ",
        "outputId": "2aca17d4-2a9e-429f-9ea0-e0893368c4fc"
      },
      "outputs": [
        {
          "name": "stdout",
          "output_type": "stream",
          "text": [
            "CREATE DATABASE  IF NOT EXISTS `hospital` /*!40100 DEFAULT CHARACTER SET utf8mb4 COLLATE utf8mb4_0900_ai_ci */ /*!80016 DEFAULT ENCRYPTION='N' */;\r\n",
            "USE `hospital`;\r\n",
            "-- MySQL dump 10.13  Distrib 8.0.32, for Win64 (x86_64)\r\n",
            "--\r\n",
            "-- Host: localhost    Database: hospital\r\n",
            "-- ------------------------------------------------------\r\n",
            "-- Server version\t8.0.32\r\n",
            "\r\n",
            "/*!40101 SET @OLD_CHARACTER_SET_CLIENT=@@CHARACTER_SET_CLIENT */;\r\n",
            "/*!40101 SET @OLD_CHARACTER_SET_RESULTS=@@CHARACTER_SET_RESULTS */;\r\n",
            "/*!40101 SET @OLD_COLLATION_CONNECTION=@@COLLATION_CONNECTION */;\r\n",
            "/*!50503 SET NAMES utf8 */;\r\n",
            "/*!40103 SET @OLD_TIME_ZONE=@@TIME_ZONE */;\r\n",
            "/*!40103 SET TIME_ZONE='+00:00' */;\r\n",
            "/*!40014 SET @OLD_UNIQUE_CHECKS=@@UNIQUE_CHECKS, UNIQUE_CHECKS=0 */;\r\n",
            "/*!40014 SET @OLD_FOREIGN_KEY_CHECKS=@@FOREIGN_KEY_CHECKS, FOREIGN_KEY_CHECKS=0 */;\r\n",
            "/*!40101 SET @OLD_SQL_MODE=@@SQL_MODE, SQL_MODE='NO_AUTO_VALUE_ON_ZERO' */;\r\n",
            "/*!40111 SET @OLD_SQL_NOTES=@@SQL_NOTES, SQL_NOTES=0 */;\r\n",
            "\r\n",
            "--\r\n",
            "-- Table structure for table `hospital_data`\r\n",
            "--\r\n",
            "\r\n",
            "DROP TABLE IF EXISTS `hospital_data`;\r\n",
            "/*!40101 SET @saved_cs_client     = @@character_set_client */;\r\n",
            "/*!50503 SET character_set_client = utf8mb4 */;\r\n",
            "CREATE TABLE `hospital_data` (\r\n",
            "  `HospitalName` text COLLATE utf8mb3_bin,\r\n",
            "  `ProviderNo` int DEFAULT '0',\r\n",
            "  `State` text COLLATE utf8mb3_bin,\r\n",
            "  `Period` text COLLATE utf8mb3_bin,\r\n",
            "  `ClaimType` text COLLATE utf8mb3_bin,\r\n",
            "  `HospitalAvgSpend` double DEFAULT '0',\r\n",
            "  `StateAvgSpend` double DEFAULT '0',\r\n",
            "  `NationalAvgSpend` double DEFAULT '0',\r\n",
            "  `HospitalSpendingPercentage` double DEFAULT '0',\r\n",
            "  `StateSpendingPercentage` double DEFAULT '0',\r\n",
            "  `NationalSpendPercentage` double DEFAULT '0',\r\n",
            "  `StartDate` date DEFAULT NULL,\r\n",
            "  `EndDate` date DEFAULT NULL\r\n",
            ") ENGINE=InnoDB DEFAULT CHARSET=utf8mb3 COLLATE=utf8mb3_bin;\r\n",
            "/*!40101 SET character_set_client = @saved_cs_client */;\r\n",
            "\r\n",
            "--\r\n",
            "-- Dumping data for table `hospital_data`\r\n",
            "--\r\n",
            "\r\n",
            "LOCK TABLES `hospital_data` WRITE;\r\n",
            "/*!40000 ALTER TABLE `hospital_data` DISABLE KEYS */;\r\n",
            "INSERT INTO `hospital_data` VALUES ('FALMOUTH HOSPITAL',220135,'MA','1 through 30 days After Discharge from Index Hospital Admission','Hospice',104,88,122,0.0052,0.0043,0.006,'2021-08-13','2022-07-26'),('PALMS WEST HOSPITAL',100269,'FL','1 through 30 days After Discharge from Index Hospital Admission','Skilled Nursing Facility',3235,3534,3319,0.1676,0.1707,0.1619,'2022-03-03','2022-09-18'),('BAYLOR ORTHOPEDIC AND SPINE HOSPITAL AT ARLINGTON',670067,'TX','During Index Hospital Admission','Home Health Agency',0,0,0,0,0,0,'2023-03-24','2023-07-28'),('ST MARY\\'S HOSPITAL ( TROY )',330232,'NY','1 to 3 days Prior to Index Hospital Admission','Outpatient',33,83,124,0.0022,0.0041,0.0061,'2022-12-27','2023-08-05'),('MARTIN LUTHER KING JR. COMMUNITY HOSPITAL',50779,'CA','1 to 3 days Prior to Index Hospital Admission','Home Health Agency',0,13,14,0,0.0006,0.0007,'2021-01-29','2021-05-19'),('KEARNEY REGIONAL MEDICAL CENTER',280134,'NE','1 to 3 days Prior to Index Hospital Admission','Outpatient',531,255,124,0.0241,0.0122,0.0061,'2022-02-11','2023-01-08'),('FRANKLIN WOODS COMMUNITY HOSPITAL',440184,'TN','1 through 30 days After Discharge from Index Hospital Admission','Inpatient',2158,2773,2702,0.1411,0.1345,0.1318,'2023-01-29','2023-10-25'),('OPELOUSAS GENERAL HEALTH SYSTEM',190017,'LA','1 to 3 days Prior to Index Hospital Admission','Hospice',3,1,1,0.0001,0,0,'2022-05-03','2022-12-08'),('CAROLINAS HEALTH CARE SYSTEM ANSON',340084,'NC','1 through 30 days After Discharge from Index Hospital Admission','Inpatient',1185,2229,2702,0.0915,0.1128,0.1318,'2022-05-07','2022-10-21'),('DELAWARE COUNTY MEMORIAL HOSPITAL',390081,'PA','1 through 30 days After Discharge from Index Hospital Admission','Outpatient',810,725,730,0.0375,0.0351,0.0356,'2021-05-08','2022-01-25'),('SACRED HEART HOSPITAL',520013,'WI','1 to 3 days Prior to Index Hospital Admission','Carrier',484,490,552,0.0245,0.025,0.0269,'2023-09-04','2023-09-06'),('BAYLOR SCOTT & WHITE MEDICAL CENTER GRAPEVINE',450563,'TX','During Index Hospital Admission','Home Health Agency',0,0,0,0,0,0,'2019-06-27','2019-08-15'),('EVANS MEMORIAL HOSPITAL',110142,'GA','1 through 30 days After Discharge from Index Hospital Admission','Home Health Agency',860,818,816,0.0646,0.041,0.0398,'2019-08-22','2019-10-24'),('FLORIDA HOSPITAL NORTH PINELLAS',100055,'FL','1 to 3 days Prior to Index Hospital Admission','Home Health Agency',12,21,14,0.0006,0.001,0.0007,'2021-09-07','2022-03-11'),('ST VINCENT HOT SPRINGS',40026,'AR','1 to 3 days Prior to Index Hospital Admission','Carrier',621,539,552,0.0319,0.0273,0.0269,'2022-02-28','2023-01-31'),('SPARROW CARSON HOSPITAL',230208,'MI','During Index Hospital Admission','Inpatient',8533,9097,9324,0.4834,0.4551,0.4549,'2019-11-30','2019-12-16'),('CLARENDON MEMORIAL HOSPITAL',420069,'SC','During Index Hospital Admission','Home Health Agency',0,0,0,0,0,0,'2019-11-23','2020-08-02'),('UNITED MEMORIAL MEDICAL CENTER',330073,'NY','During Index Hospital Admission','Hospice',0,0,0,0,0,0,'2022-01-08','2022-03-22'),('FRESNO SURGICAL HOSPITAL',50708,'CA','1 to 3 days Prior to Index Hospital Admission','Skilled Nursing Facility',0,3,2,0,0.0001,0.0001,'2023-03-15','2023-03-21'),('STATEN ISLAND UNIVERSITY HOSPITAL',330160,'NY','1 to 3 days Prior to Index Hospital Admission','Inpatient',1,4,5,0,0.0002,0.0003,'2022-05-27','2022-11-06'),('HIGHLANDS REGIONAL MEDICAL CENTER',180005,'KY','1 through 30 days After Discharge from Index Hospital Admission','Inpatient',1895,2638,2702,0.1266,0.1348,0.1318,'2022-02-10','2022-04-12'),('NORTHEAST GEORGIA MEDICAL CENTER INC',110029,'GA','1 to 3 days Prior to Index Hospital Admission','Outpatient',128,111,124,0.0065,0.0056,0.0061,'2020-07-13','2021-06-05'),('EL CAMINO HOSPITAL',50308,'CA','1 to 3 days Prior to Index Hospital Admission','Skilled Nursing Facility',2,3,2,0.0001,0.0001,0.0001,'2021-10-26','2022-10-07'),('JERSEY SHORE UNIVERSITY MEDICAL CENTER',310073,'NJ','Complete Episode','Total',23842,21733,20497,1,1,1,'2021-04-24','2021-09-13'),('CLEAR LAKE REGIONAL MEDICAL CENTER',450617,'TX','1 to 3 days Prior to Index Hospital Admission','Inpatient',6,5,5,0.0003,0.0002,0.0003,'2019-10-15','2019-10-19'),('MEDSTAR WASHINGTON HOSPITAL CENTER',90011,'DC','1 through 30 days After Discharge from Index Hospital Admission','Skilled Nursing Facility',3213,3088,3319,0.1297,0.147,0.1619,'2019-09-22','2019-12-19'),('CITRUS MEMORIAL HOSPITAL',100023,'FL','During Index Hospital Admission','Inpatient',8228,8871,9324,0.4351,0.4285,0.4549,'2023-09-19','2023-11-03'),('UNION HOSPITAL',360010,'OH','During Index Hospital Admission','Outpatient',0,0,0,0,0,0,'2022-06-16','2023-04-19'),('ST JOSEPH HOSPITAL',200001,'ME','1 through 30 days After Discharge from Index Hospital Admission','Inpatient',1363,2184,2702,0.077,0.1132,0.1318,'2021-11-25','2022-06-01'),('EDWARD HOSPITAL',140231,'IL','1 through 30 days After Discharge from Index Hospital Admission','Home Health Agency',1087,791,816,0.0507,0.0383,0.0398,'2020-02-05','2020-07-15'),('RAPPAHANNOCK GENERAL HOSPITAL',490123,'VA','1 through 30 days After Discharge from Index Hospital Admission','Carrier',788,1059,1110,0.0523,0.0537,0.0542,'2020-12-02','2021-07-25'),('NORWEGIAN-AMERICAN HOSPITAL',140206,'IL','1 through 30 days After Discharge from Index Hospital Admission','Outpatient',720,788,730,0.0406,0.0381,0.0356,'2020-03-03','2020-06-17'),('BAYFRONT HEALTH DADE CITY',100211,'FL','Complete Episode','Total',20124,20704,20497,1,1,1,'2019-05-19','2019-06-15'),('INTEGRIS BASS BAPTIST HEALTH CENTER',370016,'OK','During Index Hospital Admission','Durable Medical Equipment',30,40,24,0.0016,0.002,0.0012,'2020-07-24','2021-03-10'),('JOHNSON MEMORIAL HOSPITAL',150001,'IN','During Index Hospital Admission','Inpatient',7351,9350,9324,0.3735,0.4515,0.4549,'2021-02-22','2021-07-29'),('NORTHFIELD HOSPITAL',240014,'MN','1 through 30 days After Discharge from Index Hospital Admission','Hospice',55,110,122,0.0042,0.0055,0.006,'2021-12-25','2022-06-26'),('KAISER FOUNDATION HOSPITAL',120011,'HI','During Index Hospital Admission','Durable Medical Equipment',8,14,24,0.0005,0.0007,0.0012,'2020-01-24','2020-02-23'),('BAYLOR SCOTT AND WHITE SURGICAL HOSPITAL AT SHERMA',670076,'TX','1 through 30 days After Discharge from Index Hospital Admission','Durable Medical Equipment',63,114,103,0.0028,0.0051,0.005,'2022-10-21','2023-06-14'),('MT GRAHAM REGIONAL MEDICAL CENTER',30068,'AZ','1 through 30 days After Discharge from Index Hospital Admission','Inpatient',1184,2785,2702,0.075,0.1356,0.1318,'2023-07-22','2023-12-06'),('UMASS MEMORIAL HEALTHCARE-CLINTON HOSPITAL',220058,'MA','1 through 30 days After Discharge from Index Hospital Admission','Inpatient',1611,2670,2702,0.1057,0.1325,0.1318,'2021-03-30','2021-12-31'),('SAINT JOSEPH HOSPITAL',60028,'CO','1 to 3 days Prior to Index Hospital Admission','Skilled Nursing Facility',0,2,2,0,0.0001,0.0001,'2023-06-12','2023-10-10'),('CONCORD HOSPITAL',300001,'NH','During Index Hospital Admission','Hospice',0,0,0,0,0,0,'2021-01-27','2021-08-20'),('VCU MEDICAL CENTER / VCU HEALTH SYSTEM',490032,'VA','1 to 3 days Prior to Index Hospital Admission','Outpatient',192,95,124,0.0081,0.0048,0.0061,'2020-04-23','2021-04-15'),('BAY AREA REGIONAL MEDICAL CENTER LLC',670096,'TX','During Index Hospital Admission','Hospice',0,0,0,0,0,0,'2022-04-10','2023-01-20'),('WOMEN\\'S HOSPITAL THE',150149,'IN','1 through 30 days After Discharge from Index Hospital Admission','Home Health Agency',431,558,816,0.0376,0.0269,0.0398,'2019-07-02','2020-02-15'),('MAINE MEDICAL CENTER',200009,'ME','1 through 30 days After Discharge from Index Hospital Admission','Home Health Agency',1030,901,816,0.0452,0.0467,0.0398,'2021-05-01','2021-06-19'),('ST JOSEPH MEDICAL CENTER',390096,'PA','1 through 30 days After Discharge from Index Hospital Admission','Home Health Agency',859,889,816,0.0417,0.043,0.0398,'2020-09-20','2020-11-21'),('ZUNI COMPREHENSIVE COMMUNITY HEALTH CENTER',320060,'NM','1 through 30 days After Discharge from Index Hospital Admission','Inpatient',2145,2608,2702,0.179,0.1372,0.1318,'2020-04-15','2021-02-11'),('VAN WERT COUNTY HOSPITAL',360071,'OH','1 to 3 days Prior to Index Hospital Admission','Home Health Agency',16,12,14,0.0009,0.0006,0.0007,'2021-11-25','2022-01-12'),('TUBA CITY REGIONAL HEALTH CARE CORPORATION',30073,'AZ','1 to 3 days Prior to Index Hospital Admission','Durable Medical Equipment',3,7,9,0.0002,0.0003,0.0004,'2020-08-10','2020-11-15'),('SEQUOIA HOSPITAL',50197,'CA','During Index Hospital Admission','Inpatient',12000,9665,9324,0.5482,0.4571,0.4549,'2021-06-07','2021-08-31'),('PLANTATION GENERAL HOSPITAL',100167,'FL','During Index Hospital Admission','Inpatient',7907,8871,9324,0.393,0.4285,0.4549,'2023-09-15','2023-12-22'),('WINDHAM COMMUNITY MEMORIAL HOSPITAL',70021,'CT','During Index Hospital Admission','Hospice',0,0,0,0,0,0,'2022-06-21','2022-12-01'),('KNOX COUNTY HOSPITAL',450746,'TX','Complete Episode','Total',16089,22110,20497,1,1,1,'2023-02-17','2023-12-17'),('HOLLYWOOD PRESBYTERIAN MEDICAL CENTER',50063,'CA','1 to 3 days Prior to Index Hospital Admission','Carrier',543,558,552,0.0232,0.0264,0.0269,'2022-03-26','2022-10-03'),('MERCY HOSPITAL AND MEDICAL CENTER',140158,'IL','1 through 30 days After Discharge from Index Hospital Admission','Inpatient',3612,2601,2702,0.1875,0.1258,0.1318,'2019-06-13','2020-06-09'),('SAMARITAN HOSPITAL',330180,'NY','During Index Hospital Admission','Hospice',0,0,0,0,0,0,'2020-03-01','2020-05-28'),('ST CHARLES PARISH HOSPITAL',190079,'LA','1 through 30 days After Discharge from Index Hospital Admission','Skilled Nursing Facility',2821,2423,3319,0.1692,0.1148,0.1619,'2021-07-13','2022-02-14'),('WESTSIDE REGIONAL MEDICAL CENTER',100228,'FL','1 through 30 days After Discharge from Index Hospital Admission','Carrier',1537,1339,1110,0.0746,0.0647,0.0542,'2021-10-11','2022-01-20'),('CHRISTUS SPOHN HOSPITAL CORPUS CHRISTI',450046,'TX','1 through 30 days After Discharge from Index Hospital Admission','Outpatient',936,732,730,0.0397,0.0331,0.0356,'2019-01-13','2019-12-05'),('ST DAVID\\'S SOUTH AUSTIN MEDICAL CENTER',450713,'TX','1 through 30 days After Discharge from Index Hospital Admission','Durable Medical Equipment',90,114,103,0.0043,0.0051,0.005,'2022-06-23','2023-05-19'),('PROVIDENCE HEALTH CENTER',450042,'TX','1 to 3 days Prior to Index Hospital Admission','Inpatient',5,5,5,0.0003,0.0002,0.0003,'2021-11-14','2022-06-11'),('NYACK HOSPITAL',330104,'NY','1 to 3 days Prior to Index Hospital Admission','Carrier',633,498,552,0.0288,0.0245,0.0269,'2021-05-17','2022-04-22'),('NIX HEALTH CARE SYSTEM',450130,'TX','1 through 30 days After Discharge from Index Hospital Admission','Hospice',159,150,122,0.0075,0.0068,0.006,'2021-07-20','2021-11-05'),('IROQUOIS MEMORIAL HOSPITAL',140167,'IL','During Index Hospital Admission','Durable Medical Equipment',27,20,24,0.0015,0.001,0.0012,'2022-11-26','2023-05-30'),('GEORGETOWN COMMUNITY HOSPITAL',180101,'KY','1 to 3 days Prior to Index Hospital Admission','Skilled Nursing Facility',0,2,2,0,0.0001,0.0001,'2021-01-17','2021-01-25'),('PHOEBE PUTNEY MEMORIAL HOSPITAL',110007,'GA','During Index Hospital Admission','Outpatient',0,0,0,0,0,0,'2023-04-28','2023-10-29'),('FAITH REGIONAL HEALTH SERVICES',280125,'NE','1 through 30 days After Discharge from Index Hospital Admission','Inpatient',1908,2102,2702,0.0848,0.1003,0.1318,'2020-02-29','2020-09-25'),('PINNACLE HEALTH HOSPITALS',390067,'PA','1 to 3 days Prior to Index Hospital Admission','Durable Medical Equipment',13,8,9,0.0006,0.0004,0.0004,'2021-09-23','2022-03-11'),('ST VINCENT\\'S MEDICAL CENTER RIVERSIDE',100040,'FL','1 through 30 days After Discharge from Index Hospital Admission','Hospice',144,165,122,0.0066,0.008,0.006,'2022-06-09','2022-07-20'),('MARQUETTE GENERAL HOSPITAL',230054,'MI','1 to 3 days Prior to Index Hospital Admission','Durable Medical Equipment',13,10,9,0.0006,0.0005,0.0004,'2022-07-23','2023-01-01'),('EDEN MEDICAL CENTER',50488,'CA','1 through 30 days After Discharge from Index Hospital Admission','Outpatient',670,671,730,0.028,0.0318,0.0356,'2022-07-14','2022-10-24'),('WILLIAM P. CLEMENTS JR. UNIVERSITY HOSPITAL',450044,'TX','During Index Hospital Admission','Skilled Nursing Facility',0,0,0,0,0,0,'2021-07-26','2021-11-27'),('MARTIN GENERAL HOSPITAL',340133,'NC','1 to 3 days Prior to Index Hospital Admission','Outpatient',35,153,124,0.0023,0.0077,0.0061,'2022-08-26','2023-07-16'),('COVENANT HEALTHCARE',230070,'MI','1 through 30 days After Discharge from Index Hospital Admission','Outpatient',769,737,730,0.0369,0.0369,0.0356,'2019-04-11','2019-07-06'),('ST VINCENT\\'S ST CLAIR',10130,'AL','1 to 3 days Prior to Index Hospital Admission','Hospice',0,1,1,0,0.0001,0,'2022-10-08','2023-01-26'),('HILL COUNTRY MEMORIAL HOSPITAL INC',450604,'TX','1 through 30 days After Discharge from Index Hospital Admission','Skilled Nursing Facility',3658,3010,3319,0.1925,0.1361,0.1619,'2022-03-29','2022-06-20'),('SAN JUAN REGIONAL MEDICAL CENTER',320005,'NM','During Index Hospital Admission','Hospice',0,0,0,0,0,0,'2021-12-30','2022-09-26'),('UPMC NORTHWEST',390091,'PA','During Index Hospital Admission','Hospice',0,0,0,0,0,0,'2021-06-22','2021-07-20'),('BANNER CASA GRANDE MEDICAL CENTER',30016,'AZ','1 through 30 days After Discharge from Index Hospital Admission','Skilled Nursing Facility',1914,2196,3319,0.1097,0.1069,0.1619,'2023-12-01','2023-12-06'),('DELANO REGIONAL MEDICAL CENTER',50608,'CA','1 to 3 days Prior to Index Hospital Admission','Hospice',0,0,1,0,0,0,'2020-06-17','2021-01-04'),('WINDBER HOSPITAL',390112,'PA','1 through 30 days After Discharge from Index Hospital Admission','Carrier',699,1106,1110,0.0425,0.0535,0.0542,'2022-04-19','2022-12-19'),('BECKLEY ARH HOSPITAL',510062,'WV','During Index Hospital Admission','Durable Medical Equipment',44,37,24,0.0023,0.0019,0.0012,'2021-05-23','2022-01-09'),('FAIRBANKS MEMORIAL HOSPITAL',20012,'AK','1 through 30 days After Discharge from Index Hospital Admission','Carrier',647,863,1110,0.0434,0.0433,0.0542,'2023-06-25','2023-10-09'),('ST LUKES REGIONAL MEDICAL CENTER',160146,'IA','During Index Hospital Admission','Outpatient',0,0,0,0,0,0,'2022-10-16','2022-12-10'),('MEMORIAL MEDICAL CENTER OF EAST TEXAS',450211,'TX','1 through 30 days After Discharge from Index Hospital Admission','Hospice',228,150,122,0.0106,0.0068,0.006,'2022-01-14','2022-04-10'),('LEESBURG REGIONAL MEDICAL CENTER',100084,'FL','During Index Hospital Admission','Inpatient',9489,8871,9324,0.4586,0.4285,0.4549,'2019-06-21','2019-08-03'),('CAMBRIDGE MEDICAL CENTER',240020,'MN','1 to 3 days Prior to Index Hospital Admission','Durable Medical Equipment',7,10,9,0.0005,0.0005,0.0004,'2023-03-20','2023-11-21'),('VIERA HOSPITAL',100315,'FL','During Index Hospital Admission','Hospice',0,0,0,0,0,0,'2023-06-24','2023-07-05'),('BAYLOR SCOTT & WHITE MEDICAL CENTER - BRENHAM',450187,'TX','During Index Hospital Admission','Home Health Agency',0,0,0,0,0,0,'2023-12-19','2023-12-28'),('ANDERSON REGIONAL MEDICAL CTR',250104,'MS','During Index Hospital Admission','Outpatient',0,0,0,0,0,0,'2020-06-16','2021-03-12'),('ADVOCATE LUTHERAN GENERAL HOSPITAL',140223,'IL','1 through 30 days After Discharge from Index Hospital Admission','Inpatient',2759,2601,2702,0.1211,0.1258,0.1318,'2021-07-13','2021-12-31'),('SAINT FRANCIS BARTLETT MEDICAL CENTER',440228,'TN','1 to 3 days Prior to Index Hospital Admission','Outpatient',53,141,124,0.0026,0.0068,0.0061,'2022-02-16','2022-06-28'),('ST JAMES MERCY HOSPITAL',330151,'NY','During Index Hospital Admission','Outpatient',0,0,0,0,0,0,'2020-03-31','2020-05-31'),('MEMORIAL HEALTHCARE SYSTEM INC',440091,'TN','1 to 3 days Prior to Index Hospital Admission','Carrier',474,647,552,0.0226,0.0314,0.0269,'2021-07-04','2021-09-30'),('NORTH MEMORIAL MEDICAL CENTER',240001,'MN','1 to 3 days Prior to Index Hospital Admission','Carrier',389,489,552,0.0186,0.0244,0.0269,'2019-03-08','2019-03-21'),('HURLEY MEDICAL CENTER',230132,'MI','1 to 3 days Prior to Index Hospital Admission','Home Health Agency',12,14,14,0.0006,0.0007,0.0007,'2019-02-09','2019-05-10'),('VAN WERT COUNTY HOSPITAL',360071,'OH','1 to 3 days Prior to Index Hospital Admission','Durable Medical Equipment',4,9,9,0.0002,0.0004,0.0004,'2023-04-30','2023-10-14'),('LANCASTER GENERAL HOSPITAL',390100,'PA','1 to 3 days Prior to Index Hospital Admission','Durable Medical Equipment',6,8,9,0.0003,0.0004,0.0004,'2023-01-26','2023-10-27'),('TAMPA COMMUNITY HOSPITAL',100255,'FL','During Index Hospital Admission','Inpatient',8068,8871,9324,0.4248,0.4285,0.4549,'2020-09-04','2020-10-18');\r\n",
            "/*!40000 ALTER TABLE `hospital_data` ENABLE KEYS */;\r\n",
            "UNLOCK TABLES;\r\n",
            "/*!40103 SET TIME_ZONE=@OLD_TIME_ZONE */;\r\n",
            "\r\n",
            "/*!40101 SET SQL_MODE=@OLD_SQL_MODE */;\r\n",
            "/*!40014 SET FOREIGN_KEY_CHECKS=@OLD_FOREIGN_KEY_CHECKS */;\r\n",
            "/*!40014 SET UNIQUE_CHECKS=@OLD_UNIQUE_CHECKS */;\r\n",
            "/*!40101 SET CHARACTER_SET_CLIENT=@OLD_CHARACTER_SET_CLIENT */;\r\n",
            "/*!40101 SET CHARACTER_SET_RESULTS=@OLD_CHARACTER_SET_RESULTS */;\r\n",
            "/*!40101 SET COLLATION_CONNECTION=@OLD_COLLATION_CONNECTION */;\r\n",
            "/*!40111 SET SQL_NOTES=@OLD_SQL_NOTES */;\r\n",
            "\r\n",
            "-- Dump completed on 2024-01-28 19:03:26\r\n"
          ]
        }
      ],
      "source": [
        "!cat hospital_hospital_data.sql"
      ],
      "id": "aD7yyD__FGOJ"
    },
    {
      "cell_type": "code",
      "execution_count": null,
      "metadata": {
        "colab": {
          "base_uri": "https://localhost:8080/"
        },
        "id": "gIqpLGR7FNdp",
        "outputId": "9cac076f-320e-438f-fa08-7b96e7fc2195"
      },
      "outputs": [
        {
          "name": "stdout",
          "output_type": "stream",
          "text": [
            "CREATE DATABASE  IF NOT EXISTS `hospital` /*!40100 DEFAULT CHARACTER SET utf8mb4 COLLATE utf8mb4_0900_ai_ci */ /*!80016 DEFAULT ENCRYPTION='N' */;\r\n",
            "USE `hospital`;\r\n",
            "-- MySQL dump 10.13  Distrib 8.0.32, for Win64 (x86_64)\r\n",
            "--\r\n",
            "-- Host: localhost    Database: hospital\r\n",
            "-- ------------------------------------------------------\r\n",
            "-- Server version\t8.0.32\r\n",
            "\r\n",
            "/*!40101 SET @OLD_CHARACTER_SET_CLIENT=@@CHARACTER_SET_CLIENT */;\r\n",
            "/*!40101 SET @OLD_CHARACTER_SET_RESULTS=@@CHARACTER_SET_RESULTS */;\r\n",
            "/*!40101 SET @OLD_COLLATION_CONNECTION=@@COLLATION_CONNECTION */;\r\n",
            "/*!50503 SET NAMES utf8 */;\r\n",
            "/*!40103 SET @OLD_TIME_ZONE=@@TIME_ZONE */;\r\n",
            "/*!40103 SET TIME_ZONE='+00:00' */;\r\n",
            "/*!40014 SET @OLD_UNIQUE_CHECKS=@@UNIQUE_CHECKS, UNIQUE_CHECKS=0 */;\r\n",
            "/*!40014 SET @OLD_FOREIGN_KEY_CHECKS=@@FOREIGN_KEY_CHECKS, FOREIGN_KEY_CHECKS=0 */;\r\n",
            "/*!40101 SET @OLD_SQL_MODE=@@SQL_MODE, SQL_MODE='NO_AUTO_VALUE_ON_ZERO' */;\r\n",
            "/*!40111 SET @OLD_SQL_NOTES=@@SQL_NOTES, SQL_NOTES=0 */;\r\n",
            "\r\n",
            "--\r\n",
            "-- Table structure for table `patient_data`\r\n",
            "--\r\n",
            "\r\n",
            "DROP TABLE IF EXISTS `patient_data`;\r\n",
            "/*!40101 SET @saved_cs_client     = @@character_set_client */;\r\n",
            "/*!50503 SET character_set_client = utf8mb4 */;\r\n",
            "CREATE TABLE `patient_data` (\r\n",
            "  `HospitalID` int DEFAULT NULL,\r\n",
            "  `PatientID` int NOT NULL,\r\n",
            "  `InvoiceAmount` double DEFAULT NULL,\r\n",
            "  `Age` int DEFAULT NULL,\r\n",
            "  `Smoker` int DEFAULT NULL,\r\n",
            "  `BMI` int DEFAULT NULL,\r\n",
            "  `DrugsAlc` int DEFAULT NULL,\r\n",
            "  `Employed` int DEFAULT NULL,\r\n",
            "  `Diabetic` int DEFAULT NULL,\r\n",
            "  `Pregnant` int DEFAULT NULL,\r\n",
            "  `PreCondition` int DEFAULT NULL,\r\n",
            "  `Feedback` int DEFAULT NULL,\r\n",
            "  `HomeState` text,\r\n",
            "  PRIMARY KEY (`PatientID`),\r\n",
            "  CONSTRAINT `patient_data_chk_1` CHECK ((`Smoker` in (0,1))),\r\n",
            "  CONSTRAINT `patient_data_chk_2` CHECK ((`DrugsAlc` in (0,1))),\r\n",
            "  CONSTRAINT `patient_data_chk_3` CHECK ((`Employed` in (0,1))),\r\n",
            "  CONSTRAINT `patient_data_chk_4` CHECK ((`Diabetic` in (0,1))),\r\n",
            "  CONSTRAINT `patient_data_chk_5` CHECK ((`Pregnant` in (0,1))),\r\n",
            "  CONSTRAINT `patient_data_chk_6` CHECK ((`PreCondition` in (0,1))),\r\n",
            "  CONSTRAINT `patient_data_chk_7` CHECK ((`Feedback` in (-(1),0,1)))\r\n",
            ") ENGINE=InnoDB DEFAULT CHARSET=utf8mb4 COLLATE=utf8mb4_0900_ai_ci;\r\n",
            "/*!40101 SET character_set_client = @saved_cs_client */;\r\n",
            "\r\n",
            "--\r\n",
            "-- Dumping data for table `patient_data`\r\n",
            "--\r\n",
            "\r\n",
            "LOCK TABLES `patient_data` WRITE;\r\n",
            "/*!40000 ALTER TABLE `patient_data` DISABLE KEYS */;\r\n",
            "INSERT INTO `patient_data` VALUES (220135,105947,101.383048333209,31,0,28,0,1,1,0,0,-1,'ME'),(510062,111365,43.3121368927957,28,1,30,1,0,1,0,0,1,'WV'),(330151,143384,0,33,1,20,1,0,0,0,0,0,'NY'),(150149,149265,428.536207517161,59,1,34,0,0,1,0,0,0,'NM'),(240014,158168,55.4445204743628,30,1,32,1,0,1,1,1,-1,'MN'),(180101,171874,0,31,0,36,0,0,0,0,1,0,'KY'),(110007,192429,0,47,1,28,1,0,0,0,0,1,'GA'),(140158,205573,3476.89696552718,30,1,38,1,0,1,0,1,1,'IL'),(450042,226054,4.90548309119573,25,0,26,1,1,1,1,1,1,'TX'),(30073,239824,3.10470802694607,61,0,26,0,1,0,0,0,0,'OH'),(450746,240304,16365.4498802826,65,0,21,0,1,1,0,0,0,'TX'),(280134,264443,511.9453748616,74,0,36,1,0,0,0,1,-1,'NM'),(520013,273557,495.031560459881,37,1,29,0,1,1,0,1,0,'WI'),(140206,277680,738.053011029385,46,1,34,0,0,0,0,1,1,'CO'),(100040,282001,150.516954564251,21,0,37,0,1,0,0,0,0,'FL'),(450604,300701,3648.01637773132,58,0,37,0,1,1,0,0,-1,'TX'),(440091,305385,466.760339022974,33,0,19,1,0,1,0,1,1,'TN'),(250104,315727,0,70,1,35,0,0,1,0,1,-1,'MO'),(320060,316769,2092.51286308322,20,1,25,0,1,0,1,0,1,'NM'),(440184,329878,2131.04065814843,53,1,18,0,0,0,0,0,1,'IA'),(100228,338591,1560.08572227569,23,1,19,0,0,0,0,0,0,'FL'),(100055,340307,11.7706767282083,24,0,25,0,0,0,0,0,0,'FL'),(50063,343117,529.682034136643,30,1,27,0,1,1,0,1,0,'CA'),(150001,348271,7259.52604773933,31,0,33,0,0,0,0,0,0,'IN'),(360010,360437,0,39,0,21,0,0,1,0,0,0,'OH'),(60028,381474,0,53,1,29,0,1,0,0,1,0,'NH'),(230132,400749,11.9091465092866,72,0,33,1,0,1,0,1,1,'MI'),(50488,400882,665.022455860342,29,1,39,0,1,1,1,1,-1,'MN'),(370016,400976,28.7889715759114,27,1,39,0,0,0,1,0,1,NULL),(240001,429269,399.079480922848,17,0,32,1,0,0,0,1,1,'PA'),(200009,445562,1060.74948712044,25,1,36,0,0,0,0,0,0,'AZ'),(50197,446224,11439.4696734318,42,0,28,0,0,1,0,1,0,'TX'),(420069,449142,0,45,0,19,1,0,1,0,0,0,'MO'),(450046,453750,973.395111064596,15,1,39,0,0,0,1,1,-1,'ND'),(20012,460986,657.865704840439,24,0,23,0,0,1,1,1,0,'AR'),(230208,461973,8848.32351330798,73,1,38,1,0,0,0,1,0,'AL'),(340133,486028,34.4408549900072,50,1,20,0,1,1,0,1,0,'MN'),(450187,487220,0,57,1,20,0,0,0,0,1,0,'TX'),(390112,500078,669.17745171113,40,1,36,1,0,0,0,1,-1,'PA'),(100167,523872,7928.29226506731,37,0,28,0,1,1,0,1,0,'FL'),(440228,525501,52.8388648218745,72,1,25,0,0,0,0,0,1,NULL),(30016,528474,1873.24013148755,20,1,39,0,0,0,0,1,0,'AZ'),(280125,539839,1930.78403021076,38,0,28,1,1,0,0,1,0,'IA'),(320005,545027,0,29,1,36,1,0,1,0,0,0,NULL),(360071,546165,16.5546517363299,42,1,25,0,1,0,0,1,1,'OH'),(160146,555779,0,28,0,26,0,1,0,1,1,-1,'IN'),(120011,570986,8.29685765343457,18,0,37,0,0,0,0,0,-1,'CA'),(670096,572066,0,16,1,37,1,1,1,1,1,0,'TX'),(360071,579077,3.98912353035599,42,1,39,0,0,0,0,0,-1,'WV'),(100084,586546,9483.88124485053,65,0,36,1,0,1,0,1,0,'IL'),(50608,593385,0,31,1,39,0,0,1,0,1,-1,'CA'),(330073,595320,0,24,1,21,1,0,0,0,1,1,'NY'),(140167,597200,26.950353657226,50,1,25,1,0,0,0,1,-1,'RI'),(310073,616733,23289.453519844,53,0,21,1,1,0,0,1,0,'NJ'),(100023,626098,8040.01571818363,59,1,18,1,0,0,0,0,1,'FL'),(390100,653210,6.21728183511756,36,1,28,1,0,0,0,1,1,'NY'),(140223,656217,2684.59854737459,26,0,27,1,0,0,0,0,-1,'IL'),(70021,665711,0,28,1,19,0,1,1,1,1,0,'CT'),(450211,672448,231.656437864297,31,1,18,0,1,1,0,0,0,'TX'),(100315,701396,0,55,1,19,0,1,1,0,1,-1,'FL'),(200001,705701,1429.29473058177,65,1,31,1,0,0,0,0,1,'ME'),(190079,706565,2824.65688038721,66,0,26,1,0,0,0,1,-1,'TX'),(390096,707455,898.135263369119,32,0,21,0,0,0,0,1,-1,'LA'),(450563,707864,0,35,0,19,1,0,0,1,0,1,'DE'),(390081,723724,800.640723062437,72,1,39,1,0,1,0,0,0,'OK'),(330180,724951,0,39,1,25,1,0,1,0,1,1,'NM'),(230054,726139,13.5011705674649,67,0,39,1,0,1,0,1,0,'MA'),(450044,726749,0,19,0,32,0,0,1,1,0,0,'NC'),(40026,733140,616.54668712512,68,1,20,0,1,1,0,0,1,'ME'),(110029,740403,130.121494121567,16,1,26,1,0,0,0,0,1,'DE'),(450130,742378,165.03140844727,30,1,27,1,0,0,0,0,1,'TX'),(30068,744969,1139.62459697779,30,0,19,0,1,0,1,1,1,'TN'),(670067,750090,0,74,0,38,1,0,0,0,0,-1,'IN'),(390091,783051,0,32,1,20,1,1,0,1,0,-1,'PA'),(340084,784526,1141.01932849276,28,1,29,1,0,1,0,1,1,'NC'),(180005,786045,1876.47070299184,37,1,18,1,1,0,0,1,-1,'KY'),(140231,793725,1136.16624400157,56,1,18,1,0,1,0,1,-1,'NC'),(330160,795427,1.02336663223091,35,1,31,1,0,1,0,0,-1,'NY'),(240020,817860,7.26690393775021,40,0,36,1,1,0,0,1,1,'MN'),(100269,822734,3312.1179570618,44,1,32,1,1,1,0,0,-1,'GA'),(490032,827295,188.728210166269,73,0,31,1,0,1,0,1,-1,'NH'),(450617,832204,5.7607660917047,24,0,28,1,1,1,1,1,0,'TX'),(390067,846484,13.001597880183,25,0,23,0,0,0,0,1,0,'OK'),(100211,858081,19451.6276276593,41,1,36,0,0,1,0,1,-1,'KY'),(90011,859889,3287.36190878833,21,0,30,0,1,1,0,1,0,'ND'),(100255,875803,8328.74966686,70,1,26,0,1,0,0,0,1,'ID'),(670076,877382,61.4072752928726,34,1,20,0,1,0,0,1,1,'TN'),(450713,890393,87.9546272598565,28,1,26,1,0,1,0,0,0,'TX'),(50308,896255,1.99515636128498,24,0,25,1,0,0,0,0,1,'CA'),(490123,914459,799.110587994716,61,1,36,0,0,0,0,0,1,'UT'),(300001,914986,0,30,1,31,0,0,1,1,0,0,'NH'),(50708,958117,0,73,0,26,1,0,1,0,0,-1,'CA'),(110142,960940,859.584628057995,56,0,27,1,0,1,0,0,0,'IN'),(50779,964136,0,31,1,23,1,1,1,0,1,-1,'CA'),(10130,968836,0,23,0,32,1,0,1,0,0,0,'AL'),(330104,969985,636.863127345299,20,0,30,1,0,0,0,0,1,'GA'),(190017,972286,2.98770448263685,44,0,29,0,1,0,0,0,0,'UT'),(230070,982838,807.084249866267,34,0,22,0,1,0,0,1,1,'MI'),(220058,983693,1571.43558785055,57,0,39,1,0,1,0,0,1,'MA'),(330232,985087,34.4764545613014,19,1,28,1,1,0,0,1,1,'ND');\r\n",
            "/*!40000 ALTER TABLE `patient_data` ENABLE KEYS */;\r\n",
            "UNLOCK TABLES;\r\n",
            "/*!40103 SET TIME_ZONE=@OLD_TIME_ZONE */;\r\n",
            "\r\n",
            "/*!40101 SET SQL_MODE=@OLD_SQL_MODE */;\r\n",
            "/*!40014 SET FOREIGN_KEY_CHECKS=@OLD_FOREIGN_KEY_CHECKS */;\r\n",
            "/*!40014 SET UNIQUE_CHECKS=@OLD_UNIQUE_CHECKS */;\r\n",
            "/*!40101 SET CHARACTER_SET_CLIENT=@OLD_CHARACTER_SET_CLIENT */;\r\n",
            "/*!40101 SET CHARACTER_SET_RESULTS=@OLD_CHARACTER_SET_RESULTS */;\r\n",
            "/*!40101 SET COLLATION_CONNECTION=@OLD_COLLATION_CONNECTION */;\r\n",
            "/*!40111 SET SQL_NOTES=@OLD_SQL_NOTES */;\r\n",
            "\r\n",
            "-- Dump completed on 2024-01-28 19:03:26\r\n"
          ]
        }
      ],
      "source": [
        "!cat hospital_patient_data.sql"
      ],
      "id": "gIqpLGR7FNdp"
    },
    {
      "cell_type": "code",
      "execution_count": null,
      "metadata": {
        "id": "9h7tykCYUOhE"
      },
      "outputs": [],
      "source": [
        "import sqlite3\n",
        "with sqlite3.connect(\"hospital.db\") as conn:\n",
        "  cursor = conn.cursor()"
      ],
      "id": "9h7tykCYUOhE"
    },
    {
      "cell_type": "code",
      "execution_count": null,
      "metadata": {
        "colab": {
          "base_uri": "https://localhost:8080/"
        },
        "id": "h79SGYCqUOhF",
        "outputId": "b91d1a73-57b7-4c37-e7d7-0ceeaa3471eb"
      },
      "outputs": [
        {
          "data": {
            "text/plain": [
              "<sqlite3.Cursor at 0x7fa696b0e540>"
            ]
          },
          "execution_count": 10,
          "metadata": {},
          "output_type": "execute_result"
        }
      ],
      "source": [
        "cursor.execute(\"\"\"\n",
        "CREATE TABLE IF NOT EXISTS `hospital_data` (\n",
        "  `HospitalName` text,\n",
        "  `ProviderNo` int DEFAULT '0',\n",
        "  `State` text ,\n",
        "  `Period` text ,\n",
        "  `ClaimType` text ,\n",
        "  `HospitalAvgSpend` double DEFAULT '0',\n",
        "  `StateAvgSpend` double DEFAULT '0',\n",
        "  `NationalAvgSpend` double DEFAULT '0',\n",
        "  `HospitalSpendingPercentage` double DEFAULT '0',\n",
        "  `StateSpendingPercentage` double DEFAULT '0',\n",
        "  `NationalSpendPercentage` double DEFAULT '0',\n",
        "  `StartDate` date DEFAULT NULL,\n",
        "  `EndDate` date DEFAULT NULL)\n",
        "\"\"\"\n",
        ")"
      ],
      "id": "h79SGYCqUOhF"
    },
    {
      "cell_type": "code",
      "execution_count": null,
      "metadata": {
        "colab": {
          "base_uri": "https://localhost:8080/"
        },
        "id": "nbbnuEYYUOhF",
        "outputId": "97a8f882-aab0-404c-cd31-1085f1b404c8"
      },
      "outputs": [
        {
          "data": {
            "text/plain": [
              "<sqlite3.Cursor at 0x7fa696b0e540>"
            ]
          },
          "execution_count": 11,
          "metadata": {},
          "output_type": "execute_result"
        }
      ],
      "source": [
        "cursor.execute(\"INSERT INTO `hospital_data` VALUES ('FALMOUTH HOSPITAL',220135,'MA','1 through 30 days After Discharge from Index Hospital Admission','Hospice',104,88,122,0.0052,0.0043,0.006,'2021-08-13','2022-07-26'),('PALMS WEST HOSPITAL',100269,'FL','1 through 30 days After Discharge from Index Hospital Admission','Skilled Nursing Facility',3235,3534,3319,0.1676,0.1707,0.1619,'2022-03-03','2022-09-18'),('BAYLOR ORTHOPEDIC AND SPINE HOSPITAL AT ARLINGTON',670067,'TX','During Index Hospital Admission','Home Health Agency',0,0,0,0,0,0,'2023-03-24','2023-07-28'),('ST MARYS HOSPITAL ( TROY )',330232,'NY','1 to 3 days Prior to Index Hospital Admission','Outpatient',33,83,124,0.0022,0.0041,0.0061,'2022-12-27','2023-08-05'),('MARTIN LUTHER KING JR. COMMUNITY HOSPITAL',50779,'CA','1 to 3 days Prior to Index Hospital Admission','Home Health Agency',0,13,14,0,0.0006,0.0007,'2021-01-29','2021-05-19'),('KEARNEY REGIONAL MEDICAL CENTER',280134,'NE','1 to 3 days Prior to Index Hospital Admission','Outpatient',531,255,124,0.0241,0.0122,0.0061,'2022-02-11','2023-01-08'),('FRANKLIN WOODS COMMUNITY HOSPITAL',440184,'TN','1 through 30 days After Discharge from Index Hospital Admission','Inpatient',2158,2773,2702,0.1411,0.1345,0.1318,'2023-01-29','2023-10-25'),('OPELOUSAS GENERAL HEALTH SYSTEM',190017,'LA','1 to 3 days Prior to Index Hospital Admission','Hospice',3,1,1,0.0001,0,0,'2022-05-03','2022-12-08'),('CAROLINAS HEALTH CARE SYSTEM ANSON',340084,'NC','1 through 30 days After Discharge from Index Hospital Admission','Inpatient',1185,2229,2702,0.0915,0.1128,0.1318,'2022-05-07','2022-10-21'),('DELAWARE COUNTY MEMORIAL HOSPITAL',390081,'PA','1 through 30 days After Discharge from Index Hospital Admission','Outpatient',810,725,730,0.0375,0.0351,0.0356,'2021-05-08','2022-01-25'),('SACRED HEART HOSPITAL',520013,'WI','1 to 3 days Prior to Index Hospital Admission','Carrier',484,490,552,0.0245,0.025,0.0269,'2023-09-04','2023-09-06'),('BAYLOR SCOTT & WHITE MEDICAL CENTER GRAPEVINE',450563,'TX','During Index Hospital Admission','Home Health Agency',0,0,0,0,0,0,'2019-06-27','2019-08-15'),('EVANS MEMORIAL HOSPITAL',110142,'GA','1 through 30 days After Discharge from Index Hospital Admission','Home Health Agency',860,818,816,0.0646,0.041,0.0398,'2019-08-22','2019-10-24'),('FLORIDA HOSPITAL NORTH PINELLAS',100055,'FL','1 to 3 days Prior to Index Hospital Admission','Home Health Agency',12,21,14,0.0006,0.001,0.0007,'2021-09-07','2022-03-11'),('ST VINCENT HOT SPRINGS',40026,'AR','1 to 3 days Prior to Index Hospital Admission','Carrier',621,539,552,0.0319,0.0273,0.0269,'2022-02-28','2023-01-31'),('SPARROW CARSON HOSPITAL',230208,'MI','During Index Hospital Admission','Inpatient',8533,9097,9324,0.4834,0.4551,0.4549,'2019-11-30','2019-12-16'),('CLARENDON MEMORIAL HOSPITAL',420069,'SC','During Index Hospital Admission','Home Health Agency',0,0,0,0,0,0,'2019-11-23','2020-08-02'),('UNITED MEMORIAL MEDICAL CENTER',330073,'NY','During Index Hospital Admission','Hospice',0,0,0,0,0,0,'2022-01-08','2022-03-22'),('FRESNO SURGICAL HOSPITAL',50708,'CA','1 to 3 days Prior to Index Hospital Admission','Skilled Nursing Facility',0,3,2,0,0.0001,0.0001,'2023-03-15','2023-03-21'),('STATEN ISLAND UNIVERSITY HOSPITAL',330160,'NY','1 to 3 days Prior to Index Hospital Admission','Inpatient',1,4,5,0,0.0002,0.0003,'2022-05-27','2022-11-06'),('HIGHLANDS REGIONAL MEDICAL CENTER',180005,'KY','1 through 30 days After Discharge from Index Hospital Admission','Inpatient',1895,2638,2702,0.1266,0.1348,0.1318,'2022-02-10','2022-04-12'),('NORTHEAST GEORGIA MEDICAL CENTER INC',110029,'GA','1 to 3 days Prior to Index Hospital Admission','Outpatient',128,111,124,0.0065,0.0056,0.0061,'2020-07-13','2021-06-05'),('EL CAMINO HOSPITAL',50308,'CA','1 to 3 days Prior to Index Hospital Admission','Skilled Nursing Facility',2,3,2,0.0001,0.0001,0.0001,'2021-10-26','2022-10-07'),('JERSEY SHORE UNIVERSITY MEDICAL CENTER',310073,'NJ','Complete Episode','Total',23842,21733,20497,1,1,1,'2021-04-24','2021-09-13'),('CLEAR LAKE REGIONAL MEDICAL CENTER',450617,'TX','1 to 3 days Prior to Index Hospital Admission','Inpatient',6,5,5,0.0003,0.0002,0.0003,'2019-10-15','2019-10-19'),('MEDSTAR WASHINGTON HOSPITAL CENTER',90011,'DC','1 through 30 days After Discharge from Index Hospital Admission','Skilled Nursing Facility',3213,3088,3319,0.1297,0.147,0.1619,'2019-09-22','2019-12-19'),('CITRUS MEMORIAL HOSPITAL',100023,'FL','During Index Hospital Admission','Inpatient',8228,8871,9324,0.4351,0.4285,0.4549,'2023-09-19','2023-11-03'),('UNION HOSPITAL',360010,'OH','During Index Hospital Admission','Outpatient',0,0,0,0,0,0,'2022-06-16','2023-04-19'),('ST JOSEPH HOSPITAL',200001,'ME','1 through 30 days After Discharge from Index Hospital Admission','Inpatient',1363,2184,2702,0.077,0.1132,0.1318,'2021-11-25','2022-06-01'),('EDWARD HOSPITAL',140231,'IL','1 through 30 days After Discharge from Index Hospital Admission','Home Health Agency',1087,791,816,0.0507,0.0383,0.0398,'2020-02-05','2020-07-15'),('RAPPAHANNOCK GENERAL HOSPITAL',490123,'VA','1 through 30 days After Discharge from Index Hospital Admission','Carrier',788,1059,1110,0.0523,0.0537,0.0542,'2020-12-02','2021-07-25'),('NORWEGIAN-AMERICAN HOSPITAL',140206,'IL','1 through 30 days After Discharge from Index Hospital Admission','Outpatient',720,788,730,0.0406,0.0381,0.0356,'2020-03-03','2020-06-17'),('BAYFRONT HEALTH DADE CITY',100211,'FL','Complete Episode','Total',20124,20704,20497,1,1,1,'2019-05-19','2019-06-15'),('INTEGRIS BASS BAPTIST HEALTH CENTER',370016,'OK','During Index Hospital Admission','Durable Medical Equipment',30,40,24,0.0016,0.002,0.0012,'2020-07-24','2021-03-10'),('JOHNSON MEMORIAL HOSPITAL',150001,'IN','During Index Hospital Admission','Inpatient',7351,9350,9324,0.3735,0.4515,0.4549,'2021-02-22','2021-07-29'),('NORTHFIELD HOSPITAL',240014,'MN','1 through 30 days After Discharge from Index Hospital Admission','Hospice',55,110,122,0.0042,0.0055,0.006,'2021-12-25','2022-06-26'),('KAISER FOUNDATION HOSPITAL',120011,'HI','During Index Hospital Admission','Durable Medical Equipment',8,14,24,0.0005,0.0007,0.0012,'2020-01-24','2020-02-23'),('BAYLOR SCOTT AND WHITE SURGICAL HOSPITAL AT SHERMA',670076,'TX','1 through 30 days After Discharge from Index Hospital Admission','Durable Medical Equipment',63,114,103,0.0028,0.0051,0.005,'2022-10-21','2023-06-14'),('MT GRAHAM REGIONAL MEDICAL CENTER',30068,'AZ','1 through 30 days After Discharge from Index Hospital Admission','Inpatient',1184,2785,2702,0.075,0.1356,0.1318,'2023-07-22','2023-12-06'),('UMASS MEMORIAL HEALTHCARE-CLINTON HOSPITAL',220058,'MA','1 through 30 days After Discharge from Index Hospital Admission','Inpatient',1611,2670,2702,0.1057,0.1325,0.1318,'2021-03-30','2021-12-31'),('SAINT JOSEPH HOSPITAL',60028,'CO','1 to 3 days Prior to Index Hospital Admission','Skilled Nursing Facility',0,2,2,0,0.0001,0.0001,'2023-06-12','2023-10-10'),('CONCORD HOSPITAL',300001,'NH','During Index Hospital Admission','Hospice',0,0,0,0,0,0,'2021-01-27','2021-08-20'),('VCU MEDICAL CENTER / VCU HEALTH SYSTEM',490032,'VA','1 to 3 days Prior to Index Hospital Admission','Outpatient',192,95,124,0.0081,0.0048,0.0061,'2020-04-23','2021-04-15'),('BAY AREA REGIONAL MEDICAL CENTER LLC',670096,'TX','During Index Hospital Admission','Hospice',0,0,0,0,0,0,'2022-04-10','2023-01-20'),('WOMENS HOSPITAL THE',150149,'IN','1 through 30 days After Discharge from Index Hospital Admission','Home Health Agency',431,558,816,0.0376,0.0269,0.0398,'2019-07-02','2020-02-15'),('MAINE MEDICAL CENTER',200009,'ME','1 through 30 days After Discharge from Index Hospital Admission','Home Health Agency',1030,901,816,0.0452,0.0467,0.0398,'2021-05-01','2021-06-19'),('ST JOSEPH MEDICAL CENTER',390096,'PA','1 through 30 days After Discharge from Index Hospital Admission','Home Health Agency',859,889,816,0.0417,0.043,0.0398,'2020-09-20','2020-11-21'),('ZUNI COMPREHENSIVE COMMUNITY HEALTH CENTER',320060,'NM','1 through 30 days After Discharge from Index Hospital Admission','Inpatient',2145,2608,2702,0.179,0.1372,0.1318,'2020-04-15','2021-02-11'),('VAN WERT COUNTY HOSPITAL',360071,'OH','1 to 3 days Prior to Index Hospital Admission','Home Health Agency',16,12,14,0.0009,0.0006,0.0007,'2021-11-25','2022-01-12'),('TUBA CITY REGIONAL HEALTH CARE CORPORATION',30073,'AZ','1 to 3 days Prior to Index Hospital Admission','Durable Medical Equipment',3,7,9,0.0002,0.0003,0.0004,'2020-08-10','2020-11-15'),('SEQUOIA HOSPITAL',50197,'CA','During Index Hospital Admission','Inpatient',12000,9665,9324,0.5482,0.4571,0.4549,'2021-06-07','2021-08-31'),('PLANTATION GENERAL HOSPITAL',100167,'FL','During Index Hospital Admission','Inpatient',7907,8871,9324,0.393,0.4285,0.4549,'2023-09-15','2023-12-22'),('WINDHAM COMMUNITY MEMORIAL HOSPITAL',70021,'CT','During Index Hospital Admission','Hospice',0,0,0,0,0,0,'2022-06-21','2022-12-01'),('KNOX COUNTY HOSPITAL',450746,'TX','Complete Episode','Total',16089,22110,20497,1,1,1,'2023-02-17','2023-12-17'),('HOLLYWOOD PRESBYTERIAN MEDICAL CENTER',50063,'CA','1 to 3 days Prior to Index Hospital Admission','Carrier',543,558,552,0.0232,0.0264,0.0269,'2022-03-26','2022-10-03'),('MERCY HOSPITAL AND MEDICAL CENTER',140158,'IL','1 through 30 days After Discharge from Index Hospital Admission','Inpatient',3612,2601,2702,0.1875,0.1258,0.1318,'2019-06-13','2020-06-09'),('SAMARITAN HOSPITAL',330180,'NY','During Index Hospital Admission','Hospice',0,0,0,0,0,0,'2020-03-01','2020-05-28'),('ST CHARLES PARISH HOSPITAL',190079,'LA','1 through 30 days After Discharge from Index Hospital Admission','Skilled Nursing Facility',2821,2423,3319,0.1692,0.1148,0.1619,'2021-07-13','2022-02-14'),('WESTSIDE REGIONAL MEDICAL CENTER',100228,'FL','1 through 30 days After Discharge from Index Hospital Admission','Carrier',1537,1339,1110,0.0746,0.0647,0.0542,'2021-10-11','2022-01-20'),('CHRISTUS SPOHN HOSPITAL CORPUS CHRISTI',450046,'TX','1 through 30 days After Discharge from Index Hospital Admission','Outpatient',936,732,730,0.0397,0.0331,0.0356,'2019-01-13','2019-12-05'),('ST DAVIDS SOUTH AUSTIN MEDICAL CENTER',450713,'TX','1 through 30 days After Discharge from Index Hospital Admission','Durable Medical Equipment',90,114,103,0.0043,0.0051,0.005,'2022-06-23','2023-05-19'),('PROVIDENCE HEALTH CENTER',450042,'TX','1 to 3 days Prior to Index Hospital Admission','Inpatient',5,5,5,0.0003,0.0002,0.0003,'2021-11-14','2022-06-11'),('NYACK HOSPITAL',330104,'NY','1 to 3 days Prior to Index Hospital Admission','Carrier',633,498,552,0.0288,0.0245,0.0269,'2021-05-17','2022-04-22'),('NIX HEALTH CARE SYSTEM',450130,'TX','1 through 30 days After Discharge from Index Hospital Admission','Hospice',159,150,122,0.0075,0.0068,0.006,'2021-07-20','2021-11-05'),('IROQUOIS MEMORIAL HOSPITAL',140167,'IL','During Index Hospital Admission','Durable Medical Equipment',27,20,24,0.0015,0.001,0.0012,'2022-11-26','2023-05-30'),('GEORGETOWN COMMUNITY HOSPITAL',180101,'KY','1 to 3 days Prior to Index Hospital Admission','Skilled Nursing Facility',0,2,2,0,0.0001,0.0001,'2021-01-17','2021-01-25'),('PHOEBE PUTNEY MEMORIAL HOSPITAL',110007,'GA','During Index Hospital Admission','Outpatient',0,0,0,0,0,0,'2023-04-28','2023-10-29'),('FAITH REGIONAL HEALTH SERVICES',280125,'NE','1 through 30 days After Discharge from Index Hospital Admission','Inpatient',1908,2102,2702,0.0848,0.1003,0.1318,'2020-02-29','2020-09-25'),('PINNACLE HEALTH HOSPITALS',390067,'PA','1 to 3 days Prior to Index Hospital Admission','Durable Medical Equipment',13,8,9,0.0006,0.0004,0.0004,'2021-09-23','2022-03-11'),('ST VINCENTS MEDICAL CENTER RIVERSIDE',100040,'FL','1 through 30 days After Discharge from Index Hospital Admission','Hospice',144,165,122,0.0066,0.008,0.006,'2022-06-09','2022-07-20'),('MARQUETTE GENERAL HOSPITAL',230054,'MI','1 to 3 days Prior to Index Hospital Admission','Durable Medical Equipment',13,10,9,0.0006,0.0005,0.0004,'2022-07-23','2023-01-01'),('EDEN MEDICAL CENTER',50488,'CA','1 through 30 days After Discharge from Index Hospital Admission','Outpatient',670,671,730,0.028,0.0318,0.0356,'2022-07-14','2022-10-24'),('WILLIAM P. CLEMENTS JR. UNIVERSITY HOSPITAL',450044,'TX','During Index Hospital Admission','Skilled Nursing Facility',0,0,0,0,0,0,'2021-07-26','2021-11-27'),('MARTIN GENERAL HOSPITAL',340133,'NC','1 to 3 days Prior to Index Hospital Admission','Outpatient',35,153,124,0.0023,0.0077,0.0061,'2022-08-26','2023-07-16'),('COVENANT HEALTHCARE',230070,'MI','1 through 30 days After Discharge from Index Hospital Admission','Outpatient',769,737,730,0.0369,0.0369,0.0356,'2019-04-11','2019-07-06'),('ST VINCENTS ST CLAIR',10130,'AL','1 to 3 days Prior to Index Hospital Admission','Hospice',0,1,1,0,0.0001,0,'2022-10-08','2023-01-26'),('HILL COUNTRY MEMORIAL HOSPITAL INC',450604,'TX','1 through 30 days After Discharge from Index Hospital Admission','Skilled Nursing Facility',3658,3010,3319,0.1925,0.1361,0.1619,'2022-03-29','2022-06-20'),('SAN JUAN REGIONAL MEDICAL CENTER',320005,'NM','During Index Hospital Admission','Hospice',0,0,0,0,0,0,'2021-12-30','2022-09-26'),('UPMC NORTHWEST',390091,'PA','During Index Hospital Admission','Hospice',0,0,0,0,0,0,'2021-06-22','2021-07-20'),('BANNER CASA GRANDE MEDICAL CENTER',30016,'AZ','1 through 30 days After Discharge from Index Hospital Admission','Skilled Nursing Facility',1914,2196,3319,0.1097,0.1069,0.1619,'2023-12-01','2023-12-06'),('DELANO REGIONAL MEDICAL CENTER',50608,'CA','1 to 3 days Prior to Index Hospital Admission','Hospice',0,0,1,0,0,0,'2020-06-17','2021-01-04'),('WINDBER HOSPITAL',390112,'PA','1 through 30 days After Discharge from Index Hospital Admission','Carrier',699,1106,1110,0.0425,0.0535,0.0542,'2022-04-19','2022-12-19'),('BECKLEY ARH HOSPITAL',510062,'WV','During Index Hospital Admission','Durable Medical Equipment',44,37,24,0.0023,0.0019,0.0012,'2021-05-23','2022-01-09'),('FAIRBANKS MEMORIAL HOSPITAL',20012,'AK','1 through 30 days After Discharge from Index Hospital Admission','Carrier',647,863,1110,0.0434,0.0433,0.0542,'2023-06-25','2023-10-09'),('ST LUKES REGIONAL MEDICAL CENTER',160146,'IA','During Index Hospital Admission','Outpatient',0,0,0,0,0,0,'2022-10-16','2022-12-10'),('MEMORIAL MEDICAL CENTER OF EAST TEXAS',450211,'TX','1 through 30 days After Discharge from Index Hospital Admission','Hospice',228,150,122,0.0106,0.0068,0.006,'2022-01-14','2022-04-10'),('LEESBURG REGIONAL MEDICAL CENTER',100084,'FL','During Index Hospital Admission','Inpatient',9489,8871,9324,0.4586,0.4285,0.4549,'2019-06-21','2019-08-03'),('CAMBRIDGE MEDICAL CENTER',240020,'MN','1 to 3 days Prior to Index Hospital Admission','Durable Medical Equipment',7,10,9,0.0005,0.0005,0.0004,'2023-03-20','2023-11-21'),('VIERA HOSPITAL',100315,'FL','During Index Hospital Admission','Hospice',0,0,0,0,0,0,'2023-06-24','2023-07-05'),('BAYLOR SCOTT & WHITE MEDICAL CENTER - BRENHAM',450187,'TX','During Index Hospital Admission','Home Health Agency',0,0,0,0,0,0,'2023-12-19','2023-12-28'),('ANDERSON REGIONAL MEDICAL CTR',250104,'MS','During Index Hospital Admission','Outpatient',0,0,0,0,0,0,'2020-06-16','2021-03-12'),('ADVOCATE LUTHERAN GENERAL HOSPITAL',140223,'IL','1 through 30 days After Discharge from Index Hospital Admission','Inpatient',2759,2601,2702,0.1211,0.1258,0.1318,'2021-07-13','2021-12-31'),('SAINT FRANCIS BARTLETT MEDICAL CENTER',440228,'TN','1 to 3 days Prior to Index Hospital Admission','Outpatient',53,141,124,0.0026,0.0068,0.0061,'2022-02-16','2022-06-28'),('ST JAMES MERCY HOSPITAL',330151,'NY','During Index Hospital Admission','Outpatient',0,0,0,0,0,0,'2020-03-31','2020-05-31'),('MEMORIAL HEALTHCARE SYSTEM INC',440091,'TN','1 to 3 days Prior to Index Hospital Admission','Carrier',474,647,552,0.0226,0.0314,0.0269,'2021-07-04','2021-09-30'),('NORTH MEMORIAL MEDICAL CENTER',240001,'MN','1 to 3 days Prior to Index Hospital Admission','Carrier',389,489,552,0.0186,0.0244,0.0269,'2019-03-08','2019-03-21'),('HURLEY MEDICAL CENTER',230132,'MI','1 to 3 days Prior to Index Hospital Admission','Home Health Agency',12,14,14,0.0006,0.0007,0.0007,'2019-02-09','2019-05-10'),('VAN WERT COUNTY HOSPITAL',360071,'OH','1 to 3 days Prior to Index Hospital Admission','Durable Medical Equipment',4,9,9,0.0002,0.0004,0.0004,'2023-04-30','2023-10-14'),('LANCASTER GENERAL HOSPITAL',390100,'PA','1 to 3 days Prior to Index Hospital Admission','Durable Medical Equipment',6,8,9,0.0003,0.0004,0.0004,'2023-01-26','2023-10-27'),('TAMPA COMMUNITY HOSPITAL',100255,'FL','During Index Hospital Admission','Inpatient',8068,8871,9324,0.4248,0.4285,0.4549,'2020-09-04','2020-10-18');\")"
      ],
      "id": "nbbnuEYYUOhF"
    },
    {
      "cell_type": "code",
      "execution_count": null,
      "metadata": {
        "id": "hyhDLlNJUOhG"
      },
      "outputs": [],
      "source": [
        "conn.commit()"
      ],
      "id": "hyhDLlNJUOhG"
    },
    {
      "cell_type": "code",
      "execution_count": null,
      "metadata": {
        "colab": {
          "base_uri": "https://localhost:8080/"
        },
        "id": "HwImJKDZaGcv",
        "outputId": "64e46bcf-5ab3-41e5-800c-0258dba64145"
      },
      "outputs": [
        {
          "data": {
            "text/plain": [
              "<sqlite3.Cursor at 0x7fa696b0e540>"
            ]
          },
          "execution_count": 13,
          "metadata": {},
          "output_type": "execute_result"
        }
      ],
      "source": [
        "cursor.execute(\"\"\"\n",
        "CREATE TABLE IF NOT EXISTS `patient_data` (\n",
        "  `HospitalID` int DEFAULT NULL,\n",
        "  `PatientID` int NOT NULL,\n",
        "  `InvoiceAmount` double DEFAULT NULL,\n",
        "  `Age` int DEFAULT NULL,\n",
        "  `Smoker` int DEFAULT NULL,\n",
        "  `BMI` int DEFAULT NULL,\n",
        "  `DrugsAlc` int DEFAULT NULL,\n",
        "  `Employed` int DEFAULT NULL,\n",
        "  `Diabetic` int DEFAULT NULL,\n",
        "  `Pregnant` int DEFAULT NULL,\n",
        "  `PreCondition` int DEFAULT NULL,\n",
        "  `Feedback` int DEFAULT NULL,\n",
        "  `HomeState` text,\n",
        "  PRIMARY KEY (`PatientID`),\n",
        "  CONSTRAINT `patient_data_chk_1` CHECK ((`Smoker` in (0,1))),\n",
        "  CONSTRAINT `patient_data_chk_2` CHECK ((`DrugsAlc` in (0,1))),\n",
        "  CONSTRAINT `patient_data_chk_3` CHECK ((`Employed` in (0,1))),\n",
        "  CONSTRAINT `patient_data_chk_4` CHECK ((`Diabetic` in (0,1))),\n",
        "  CONSTRAINT `patient_data_chk_5` CHECK ((`Pregnant` in (0,1))),\n",
        "  CONSTRAINT `patient_data_chk_6` CHECK ((`PreCondition` in (0,1))),\n",
        "  CONSTRAINT `patient_data_chk_7` CHECK ((`Feedback` in (-(1),0,1)))\n",
        ")\n",
        "\"\"\"\n",
        ")"
      ],
      "id": "HwImJKDZaGcv"
    },
    {
      "cell_type": "code",
      "execution_count": null,
      "metadata": {
        "colab": {
          "base_uri": "https://localhost:8080/"
        },
        "id": "JYX_nWHTaGcw",
        "outputId": "635c4be5-34c8-4c0d-d35d-05848f6023b6"
      },
      "outputs": [
        {
          "data": {
            "text/plain": [
              "<sqlite3.Cursor at 0x7fa696b0e540>"
            ]
          },
          "execution_count": 14,
          "metadata": {},
          "output_type": "execute_result"
        }
      ],
      "source": [
        "cursor.execute(\"INSERT INTO `patient_data` VALUES (220135,105947,101.383048333209,31,0,28,0,1,1,0,0,-1,'ME'),(510062,111365,43.3121368927957,28,1,30,1,0,1,0,0,1,'WV'),(330151,143384,0,33,1,20,1,0,0,0,0,0,'NY'),(150149,149265,428.536207517161,59,1,34,0,0,1,0,0,0,'NM'),(240014,158168,55.4445204743628,30,1,32,1,0,1,1,1,-1,'MN'),(180101,171874,0,31,0,36,0,0,0,0,1,0,'KY'),(110007,192429,0,47,1,28,1,0,0,0,0,1,'GA'),(140158,205573,3476.89696552718,30,1,38,1,0,1,0,1,1,'IL'),(450042,226054,4.90548309119573,25,0,26,1,1,1,1,1,1,'TX'),(30073,239824,3.10470802694607,61,0,26,0,1,0,0,0,0,'OH'),(450746,240304,16365.4498802826,65,0,21,0,1,1,0,0,0,'TX'),(280134,264443,511.9453748616,74,0,36,1,0,0,0,1,-1,'NM'),(520013,273557,495.031560459881,37,1,29,0,1,1,0,1,0,'WI'),(140206,277680,738.053011029385,46,1,34,0,0,0,0,1,1,'CO'),(100040,282001,150.516954564251,21,0,37,0,1,0,0,0,0,'FL'),(450604,300701,3648.01637773132,58,0,37,0,1,1,0,0,-1,'TX'),(440091,305385,466.760339022974,33,0,19,1,0,1,0,1,1,'TN'),(250104,315727,0,70,1,35,0,0,1,0,1,-1,'MO'),(320060,316769,2092.51286308322,20,1,25,0,1,0,1,0,1,'NM'),(440184,329878,2131.04065814843,53,1,18,0,0,0,0,0,1,'IA'),(100228,338591,1560.08572227569,23,1,19,0,0,0,0,0,0,'FL'),(100055,340307,11.7706767282083,24,0,25,0,0,0,0,0,0,'FL'),(50063,343117,529.682034136643,30,1,27,0,1,1,0,1,0,'CA'),(150001,348271,7259.52604773933,31,0,33,0,0,0,0,0,0,'IN'),(360010,360437,0,39,0,21,0,0,1,0,0,0,'OH'),(60028,381474,0,53,1,29,0,1,0,0,1,0,'NH'),(230132,400749,11.9091465092866,72,0,33,1,0,1,0,1,1,'MI'),(50488,400882,665.022455860342,29,1,39,0,1,1,1,1,-1,'MN'),(370016,400976,28.7889715759114,27,1,39,0,0,0,1,0,1,NULL),(240001,429269,399.079480922848,17,0,32,1,0,0,0,1,1,'PA'),(200009,445562,1060.74948712044,25,1,36,0,0,0,0,0,0,'AZ'),(50197,446224,11439.4696734318,42,0,28,0,0,1,0,1,0,'TX'),(420069,449142,0,45,0,19,1,0,1,0,0,0,'MO'),(450046,453750,973.395111064596,15,1,39,0,0,0,1,1,-1,'ND'),(20012,460986,657.865704840439,24,0,23,0,0,1,1,1,0,'AR'),(230208,461973,8848.32351330798,73,1,38,1,0,0,0,1,0,'AL'),(340133,486028,34.4408549900072,50,1,20,0,1,1,0,1,0,'MN'),(450187,487220,0,57,1,20,0,0,0,0,1,0,'TX'),(390112,500078,669.17745171113,40,1,36,1,0,0,0,1,-1,'PA'),(100167,523872,7928.29226506731,37,0,28,0,1,1,0,1,0,'FL'),(440228,525501,52.8388648218745,72,1,25,0,0,0,0,0,1,NULL),(30016,528474,1873.24013148755,20,1,39,0,0,0,0,1,0,'AZ'),(280125,539839,1930.78403021076,38,0,28,1,1,0,0,1,0,'IA'),(320005,545027,0,29,1,36,1,0,1,0,0,0,NULL),(360071,546165,16.5546517363299,42,1,25,0,1,0,0,1,1,'OH'),(160146,555779,0,28,0,26,0,1,0,1,1,-1,'IN'),(120011,570986,8.29685765343457,18,0,37,0,0,0,0,0,-1,'CA'),(670096,572066,0,16,1,37,1,1,1,1,1,0,'TX'),(360071,579077,3.98912353035599,42,1,39,0,0,0,0,0,-1,'WV'),(100084,586546,9483.88124485053,65,0,36,1,0,1,0,1,0,'IL'),(50608,593385,0,31,1,39,0,0,1,0,1,-1,'CA'),(330073,595320,0,24,1,21,1,0,0,0,1,1,'NY'),(140167,597200,26.950353657226,50,1,25,1,0,0,0,1,-1,'RI'),(310073,616733,23289.453519844,53,0,21,1,1,0,0,1,0,'NJ'),(100023,626098,8040.01571818363,59,1,18,1,0,0,0,0,1,'FL'),(390100,653210,6.21728183511756,36,1,28,1,0,0,0,1,1,'NY'),(140223,656217,2684.59854737459,26,0,27,1,0,0,0,0,-1,'IL'),(70021,665711,0,28,1,19,0,1,1,1,1,0,'CT'),(450211,672448,231.656437864297,31,1,18,0,1,1,0,0,0,'TX'),(100315,701396,0,55,1,19,0,1,1,0,1,-1,'FL'),(200001,705701,1429.29473058177,65,1,31,1,0,0,0,0,1,'ME'),(190079,706565,2824.65688038721,66,0,26,1,0,0,0,1,-1,'TX'),(390096,707455,898.135263369119,32,0,21,0,0,0,0,1,-1,'LA'),(450563,707864,0,35,0,19,1,0,0,1,0,1,'DE'),(390081,723724,800.640723062437,72,1,39,1,0,1,0,0,0,'OK'),(330180,724951,0,39,1,25,1,0,1,0,1,1,'NM'),(230054,726139,13.5011705674649,67,0,39,1,0,1,0,1,0,'MA'),(450044,726749,0,19,0,32,0,0,1,1,0,0,'NC'),(40026,733140,616.54668712512,68,1,20,0,1,1,0,0,1,'ME'),(110029,740403,130.121494121567,16,1,26,1,0,0,0,0,1,'DE'),(450130,742378,165.03140844727,30,1,27,1,0,0,0,0,1,'TX'),(30068,744969,1139.62459697779,30,0,19,0,1,0,1,1,1,'TN'),(670067,750090,0,74,0,38,1,0,0,0,0,-1,'IN'),(390091,783051,0,32,1,20,1,1,0,1,0,-1,'PA'),(340084,784526,1141.01932849276,28,1,29,1,0,1,0,1,1,'NC'),(180005,786045,1876.47070299184,37,1,18,1,1,0,0,1,-1,'KY'),(140231,793725,1136.16624400157,56,1,18,1,0,1,0,1,-1,'NC'),(330160,795427,1.02336663223091,35,1,31,1,0,1,0,0,-1,'NY'),(240020,817860,7.26690393775021,40,0,36,1,1,0,0,1,1,'MN'),(100269,822734,3312.1179570618,44,1,32,1,1,1,0,0,-1,'GA'),(490032,827295,188.728210166269,73,0,31,1,0,1,0,1,-1,'NH'),(450617,832204,5.7607660917047,24,0,28,1,1,1,1,1,0,'TX'),(390067,846484,13.001597880183,25,0,23,0,0,0,0,1,0,'OK'),(100211,858081,19451.6276276593,41,1,36,0,0,1,0,1,-1,'KY'),(90011,859889,3287.36190878833,21,0,30,0,1,1,0,1,0,'ND'),(100255,875803,8328.74966686,70,1,26,0,1,0,0,0,1,'ID'),(670076,877382,61.4072752928726,34,1,20,0,1,0,0,1,1,'TN'),(450713,890393,87.9546272598565,28,1,26,1,0,1,0,0,0,'TX'),(50308,896255,1.99515636128498,24,0,25,1,0,0,0,0,1,'CA'),(490123,914459,799.110587994716,61,1,36,0,0,0,0,0,1,'UT'),(300001,914986,0,30,1,31,0,0,1,1,0,0,'NH'),(50708,958117,0,73,0,26,1,0,1,0,0,-1,'CA'),(110142,960940,859.584628057995,56,0,27,1,0,1,0,0,0,'IN'),(50779,964136,0,31,1,23,1,1,1,0,1,-1,'CA'),(10130,968836,0,23,0,32,1,0,1,0,0,0,'AL'),(330104,969985,636.863127345299,20,0,30,1,0,0,0,0,1,'GA'),(190017,972286,2.98770448263685,44,0,29,0,1,0,0,0,0,'UT'),(230070,982838,807.084249866267,34,0,22,0,1,0,0,1,1,'MI'),(220058,983693,1571.43558785055,57,0,39,1,0,1,0,0,1,'MA'),(330232,985087,34.4764545613014,19,1,28,1,1,0,0,1,1,'ND');\")"
      ],
      "id": "JYX_nWHTaGcw"
    },
    {
      "cell_type": "code",
      "execution_count": null,
      "metadata": {
        "id": "zAxlj7HVaGcy"
      },
      "outputs": [],
      "source": [
        "conn.commit()"
      ],
      "id": "zAxlj7HVaGcy"
    },
    {
      "cell_type": "markdown",
      "metadata": {
        "id": "fkMZ2lRvbAdT"
      },
      "source": [
        "\n",
        "\n",
        "---\n",
        "\n"
      ],
      "id": "fkMZ2lRvbAdT"
    },
    {
      "cell_type": "code",
      "execution_count": null,
      "metadata": {
        "colab": {
          "base_uri": "https://localhost:8080/"
        },
        "id": "CEtXdSkliIob",
        "outputId": "ad80f80b-8df7-4852-efc4-ac4cdaed855d"
      },
      "outputs": [
        {
          "name": "stdout",
          "output_type": "stream",
          "text": [
            "\u001b[2K     \u001b[90m━━━━━━━━━━━━━━━━━━━━━━━━━━━━━━━━━━━━━━━━\u001b[0m \u001b[32m8.4/8.4 MB\u001b[0m \u001b[31m57.3 MB/s\u001b[0m eta \u001b[36m0:00:00\u001b[0m\n",
            "\u001b[2K     \u001b[90m━━━━━━━━━━━━━━━━━━━━━━━━━━━━━━━━━━━━━━━━\u001b[0m \u001b[32m196.4/196.4 kB\u001b[0m \u001b[31m21.7 MB/s\u001b[0m eta \u001b[36m0:00:00\u001b[0m\n",
            "\u001b[2K     \u001b[90m━━━━━━━━━━━━━━━━━━━━━━━━━━━━━━━━━━━━━━━━\u001b[0m \u001b[32m4.8/4.8 MB\u001b[0m \u001b[31m82.4 MB/s\u001b[0m eta \u001b[36m0:00:00\u001b[0m\n",
            "\u001b[2K     \u001b[90m━━━━━━━━━━━━━━━━━━━━━━━━━━━━━━━━━━━━━━━━\u001b[0m \u001b[32m83.0/83.0 kB\u001b[0m \u001b[31m8.8 MB/s\u001b[0m eta \u001b[36m0:00:00\u001b[0m\n",
            "\u001b[2K     \u001b[90m━━━━━━━━━━━━━━━━━━━━━━━━━━━━━━━━━━━━━━━━\u001b[0m \u001b[32m62.7/62.7 kB\u001b[0m \u001b[31m6.1 MB/s\u001b[0m eta \u001b[36m0:00:00\u001b[0m\n",
            "\u001b[?25h"
          ]
        }
      ],
      "source": [
        "!pip install -q streamlit"
      ],
      "id": "CEtXdSkliIob"
    },
    {
      "cell_type": "code",
      "execution_count": null,
      "metadata": {
        "id": "tpARdakNqjA8"
      },
      "outputs": [],
      "source": [
        "!pip install -q python-dotenv"
      ],
      "id": "tpARdakNqjA8"
    },
    {
      "cell_type": "code",
      "execution_count": null,
      "metadata": {
        "id": "1cc66gagrlmQ"
      },
      "outputs": [],
      "source": [
        "# !pip install -q SQLAlchemy==1.4.46"
      ],
      "id": "1cc66gagrlmQ"
    },
    {
      "cell_type": "code",
      "execution_count": null,
      "metadata": {
        "id": "279jhss7eOrh"
      },
      "outputs": [],
      "source": [
        "!pip install -q google-generativeai"
      ],
      "id": "279jhss7eOrh"
    },
    {
      "cell_type": "code",
      "execution_count": null,
      "metadata": {
        "colab": {
          "base_uri": "https://localhost:8080/"
        },
        "id": "N7WQjcwkedI1",
        "outputId": "b7b2116a-2f14-42a9-f006-c3db32d8690d"
      },
      "outputs": [
        {
          "name": "stdout",
          "output_type": "stream",
          "text": [
            "\u001b[2K     \u001b[90m━━━━━━━━━━━━━━━━━━━━━━━━━━━━━━━━━━━━━━━━\u001b[0m \u001b[32m806.7/806.7 kB\u001b[0m \u001b[31m15.1 MB/s\u001b[0m eta \u001b[36m0:00:00\u001b[0m\n",
            "\u001b[2K     \u001b[90m━━━━━━━━━━━━━━━━━━━━━━━━━━━━━━━━━━━━━━━━\u001b[0m \u001b[32m1.6/1.6 MB\u001b[0m \u001b[31m45.4 MB/s\u001b[0m eta \u001b[36m0:00:00\u001b[0m\n",
            "\u001b[2K     \u001b[90m━━━━━━━━━━━━━━━━━━━━━━━━━━━━━━━━━━━━━━━━\u001b[0m \u001b[32m238.5/238.5 kB\u001b[0m \u001b[31m17.6 MB/s\u001b[0m eta \u001b[36m0:00:00\u001b[0m\n",
            "\u001b[2K     \u001b[90m━━━━━━━━━━━━━━━━━━━━━━━━━━━━━━━━━━━━━━━━\u001b[0m \u001b[32m55.4/55.4 kB\u001b[0m \u001b[31m6.3 MB/s\u001b[0m eta \u001b[36m0:00:00\u001b[0m\n",
            "\u001b[2K     \u001b[90m━━━━━━━━━━━━━━━━━━━━━━━━━━━━━━━━━━━━━━━━\u001b[0m \u001b[32m49.4/49.4 kB\u001b[0m \u001b[31m6.1 MB/s\u001b[0m eta \u001b[36m0:00:00\u001b[0m\n",
            "\u001b[?25h"
          ]
        }
      ],
      "source": [
        "!pip install -q langchain"
      ],
      "id": "N7WQjcwkedI1"
    },
    {
      "cell_type": "code",
      "execution_count": null,
      "metadata": {
        "colab": {
          "base_uri": "https://localhost:8080/"
        },
        "id": "F-7U6Nxhenxw",
        "outputId": "9f0c3fd5-8f88-448a-b6f3-fc9cc98f1742"
      },
      "outputs": [
        {
          "name": "stdout",
          "output_type": "stream",
          "text": [
            "\u001b[?25l     \u001b[90m━━━━━━━━━━━━━━━━━━━━━━━━━━━━━━━━━━━━━━━━\u001b[0m \u001b[32m0.0/166.8 kB\u001b[0m \u001b[31m?\u001b[0m eta \u001b[36m-:--:--\u001b[0m\r\u001b[2K     \u001b[91m━━━━━━━━━━━━━━━━━━━━━━━━━━━━━━━━━━\u001b[0m\u001b[90m╺\u001b[0m\u001b[90m━━━━━\u001b[0m \u001b[32m143.4/166.8 kB\u001b[0m \u001b[31m4.3 MB/s\u001b[0m eta \u001b[36m0:00:01\u001b[0m\r\u001b[2K     \u001b[90m━━━━━━━━━━━━━━━━━━━━━━━━━━━━━━━━━━━━━━━━\u001b[0m \u001b[32m166.8/166.8 kB\u001b[0m \u001b[31m3.6 MB/s\u001b[0m eta \u001b[36m0:00:00\u001b[0m\n",
            "\u001b[?25h"
          ]
        }
      ],
      "source": [
        "!pip install -q langchain-experimental"
      ],
      "id": "F-7U6Nxhenxw"
    },
    {
      "cell_type": "code",
      "execution_count": null,
      "metadata": {
        "colab": {
          "base_uri": "https://localhost:8080/"
        },
        "id": "lFbdRBWThnv5",
        "outputId": "c1d6de83-d98a-4a40-ab18-8d46539a3a65"
      },
      "outputs": [
        {
          "name": "stdout",
          "output_type": "stream",
          "text": [
            "\u001b[?25l     \u001b[90m━━━━━━━━━━━━━━━━━━━━━━━━━━━━━━━━━━━━━━━━\u001b[0m \u001b[32m0.0/132.8 kB\u001b[0m \u001b[31m?\u001b[0m eta \u001b[36m-:--:--\u001b[0m\r\u001b[2K     \u001b[91m━━━━━━━━━━━━━━━━━━━━━━━━━━━━━━━━━━━━━\u001b[0m\u001b[90m╺\u001b[0m\u001b[90m━━\u001b[0m \u001b[32m122.9/132.8 kB\u001b[0m \u001b[31m3.5 MB/s\u001b[0m eta \u001b[36m0:00:01\u001b[0m\r\u001b[2K     \u001b[90m━━━━━━━━━━━━━━━━━━━━━━━━━━━━━━━━━━━━━━━━\u001b[0m \u001b[32m132.8/132.8 kB\u001b[0m \u001b[31m2.9 MB/s\u001b[0m eta \u001b[36m0:00:00\u001b[0m\n",
            "\u001b[?25h"
          ]
        }
      ],
      "source": [
        "!pip install -q sentence-transformers"
      ],
      "id": "lFbdRBWThnv5"
    },
    {
      "cell_type": "code",
      "execution_count": null,
      "metadata": {
        "colab": {
          "base_uri": "https://localhost:8080/"
        },
        "id": "P5wRbR48e6jl",
        "outputId": "7f800a56-7ca6-4449-d36d-850828e42864"
      },
      "outputs": [
        {
          "name": "stdout",
          "output_type": "stream",
          "text": [
            "\u001b[?25l     \u001b[90m━━━━━━━━━━━━━━━━━━━━━━━━━━━━━━━━━━━━━━━━\u001b[0m \u001b[32m0.0/44.8 kB\u001b[0m \u001b[31m?\u001b[0m eta \u001b[36m-:--:--\u001b[0m\r\u001b[2K     \u001b[90m━━━━━━━━━━━━━━━━━━━━━━━━━━━━━━━━━━━━━━━━\u001b[0m \u001b[32m44.8/44.8 kB\u001b[0m \u001b[31m1.2 MB/s\u001b[0m eta \u001b[36m0:00:00\u001b[0m\n",
            "\u001b[?25h"
          ]
        }
      ],
      "source": [
        "!pip install -q pymysql"
      ],
      "id": "P5wRbR48e6jl"
    },
    {
      "cell_type": "code",
      "execution_count": null,
      "metadata": {
        "colab": {
          "base_uri": "https://localhost:8080/"
        },
        "id": "QV6SF2nNh3Ym",
        "outputId": "d35efc99-df80-4ff9-921b-7da1a505702b"
      },
      "outputs": [
        {
          "name": "stdout",
          "output_type": "stream",
          "text": [
            "\u001b[?25l     \u001b[90m━━━━━━━━━━━━━━━━━━━━━━━━━━━━━━━━━━━━━━━━\u001b[0m \u001b[32m0.0/509.0 kB\u001b[0m \u001b[31m?\u001b[0m eta \u001b[36m-:--:--\u001b[0m\r\u001b[2K     \u001b[91m━━━━━━━━━━━━━━━━━\u001b[0m\u001b[91m╸\u001b[0m\u001b[90m━━━━━━━━━━━━━━━━━━━━━━\u001b[0m \u001b[32m225.3/509.0 kB\u001b[0m \u001b[31m6.6 MB/s\u001b[0m eta \u001b[36m0:00:01\u001b[0m\r\u001b[2K     \u001b[90m━━━━━━━━━━━━━━━━━━━━━━━━━━━━━━━━━━━━━━━━\u001b[0m \u001b[32m509.0/509.0 kB\u001b[0m \u001b[31m9.8 MB/s\u001b[0m eta \u001b[36m0:00:00\u001b[0m\n",
            "\u001b[2K     \u001b[90m━━━━━━━━━━━━━━━━━━━━━━━━━━━━━━━━━━━━━━━━\u001b[0m \u001b[32m2.4/2.4 MB\u001b[0m \u001b[31m42.3 MB/s\u001b[0m eta \u001b[36m0:00:00\u001b[0m\n",
            "\u001b[2K     \u001b[90m━━━━━━━━━━━━━━━━━━━━━━━━━━━━━━━━━━━━━━━━\u001b[0m \u001b[32m92.1/92.1 kB\u001b[0m \u001b[31m12.2 MB/s\u001b[0m eta \u001b[36m0:00:00\u001b[0m\n",
            "\u001b[2K     \u001b[90m━━━━━━━━━━━━━━━━━━━━━━━━━━━━━━━━━━━━━━━━\u001b[0m \u001b[32m60.7/60.7 kB\u001b[0m \u001b[31m7.5 MB/s\u001b[0m eta \u001b[36m0:00:00\u001b[0m\n",
            "\u001b[2K     \u001b[90m━━━━━━━━━━━━━━━━━━━━━━━━━━━━━━━━━━━━━━━━\u001b[0m \u001b[32m41.1/41.1 kB\u001b[0m \u001b[31m4.2 MB/s\u001b[0m eta \u001b[36m0:00:00\u001b[0m\n",
            "\u001b[2K     \u001b[90m━━━━━━━━━━━━━━━━━━━━━━━━━━━━━━━━━━━━━━━━\u001b[0m \u001b[32m5.4/5.4 MB\u001b[0m \u001b[31m59.2 MB/s\u001b[0m eta \u001b[36m0:00:00\u001b[0m\n",
            "\u001b[2K     \u001b[90m━━━━━━━━━━━━━━━━━━━━━━━━━━━━━━━━━━━━━━━━\u001b[0m \u001b[32m6.8/6.8 MB\u001b[0m \u001b[31m75.0 MB/s\u001b[0m eta \u001b[36m0:00:00\u001b[0m\n",
            "\u001b[2K     \u001b[90m━━━━━━━━━━━━━━━━━━━━━━━━━━━━━━━━━━━━━━━━\u001b[0m \u001b[32m57.9/57.9 kB\u001b[0m \u001b[31m8.4 MB/s\u001b[0m eta \u001b[36m0:00:00\u001b[0m\n",
            "\u001b[2K     \u001b[90m━━━━━━━━━━━━━━━━━━━━━━━━━━━━━━━━━━━━━━━━\u001b[0m \u001b[32m105.6/105.6 kB\u001b[0m \u001b[31m14.4 MB/s\u001b[0m eta \u001b[36m0:00:00\u001b[0m\n",
            "\u001b[2K     \u001b[90m━━━━━━━━━━━━━━━━━━━━━━━━━━━━━━━━━━━━━━━━\u001b[0m \u001b[32m67.3/67.3 kB\u001b[0m \u001b[31m9.5 MB/s\u001b[0m eta \u001b[36m0:00:00\u001b[0m\n",
            "\u001b[?25h  Installing build dependencies ... \u001b[?25l\u001b[?25hdone\n",
            "  Getting requirements to build wheel ... \u001b[?25l\u001b[?25hdone\n",
            "  Preparing metadata (pyproject.toml) ... \u001b[?25l\u001b[?25hdone\n",
            "\u001b[2K     \u001b[90m━━━━━━━━━━━━━━━━━━━━━━━━━━━━━━━━━━━━━━━━\u001b[0m \u001b[32m698.9/698.9 kB\u001b[0m \u001b[31m59.2 MB/s\u001b[0m eta \u001b[36m0:00:00\u001b[0m\n",
            "\u001b[2K     \u001b[90m━━━━━━━━━━━━━━━━━━━━━━━━━━━━━━━━━━━━━━━━\u001b[0m \u001b[32m1.6/1.6 MB\u001b[0m \u001b[31m63.4 MB/s\u001b[0m eta \u001b[36m0:00:00\u001b[0m\n",
            "\u001b[2K     \u001b[90m━━━━━━━━━━━━━━━━━━━━━━━━━━━━━━━━━━━━━━━━\u001b[0m \u001b[32m67.6/67.6 kB\u001b[0m \u001b[31m8.1 MB/s\u001b[0m eta \u001b[36m0:00:00\u001b[0m\n",
            "\u001b[2K     \u001b[90m━━━━━━━━━━━━━━━━━━━━━━━━━━━━━━━━━━━━━━━━\u001b[0m \u001b[32m71.5/71.5 kB\u001b[0m \u001b[31m9.8 MB/s\u001b[0m eta \u001b[36m0:00:00\u001b[0m\n",
            "\u001b[2K     \u001b[90m━━━━━━━━━━━━━━━━━━━━━━━━━━━━━━━━━━━━━━━━\u001b[0m \u001b[32m46.0/46.0 kB\u001b[0m \u001b[31m6.3 MB/s\u001b[0m eta \u001b[36m0:00:00\u001b[0m\n",
            "\u001b[2K     \u001b[90m━━━━━━━━━━━━━━━━━━━━━━━━━━━━━━━━━━━━━━━━\u001b[0m \u001b[32m50.8/50.8 kB\u001b[0m \u001b[31m7.2 MB/s\u001b[0m eta \u001b[36m0:00:00\u001b[0m\n",
            "\u001b[2K     \u001b[90m━━━━━━━━━━━━━━━━━━━━━━━━━━━━━━━━━━━━━━━━\u001b[0m \u001b[32m58.3/58.3 kB\u001b[0m \u001b[31m8.2 MB/s\u001b[0m eta \u001b[36m0:00:00\u001b[0m\n",
            "\u001b[2K     \u001b[90m━━━━━━━━━━━━━━━━━━━━━━━━━━━━━━━━━━━━━━━━\u001b[0m \u001b[32m341.4/341.4 kB\u001b[0m \u001b[31m36.0 MB/s\u001b[0m eta \u001b[36m0:00:00\u001b[0m\n",
            "\u001b[2K     \u001b[90m━━━━━━━━━━━━━━━━━━━━━━━━━━━━━━━━━━━━━━━━\u001b[0m \u001b[32m3.4/3.4 MB\u001b[0m \u001b[31m76.8 MB/s\u001b[0m eta \u001b[36m0:00:00\u001b[0m\n",
            "\u001b[2K     \u001b[90m━━━━━━━━━━━━━━━━━━━━━━━━━━━━━━━━━━━━━━━━\u001b[0m \u001b[32m1.3/1.3 MB\u001b[0m \u001b[31m75.7 MB/s\u001b[0m eta \u001b[36m0:00:00\u001b[0m\n",
            "\u001b[2K     \u001b[90m━━━━━━━━━━━━━━━━━━━━━━━━━━━━━━━━━━━━━━━━\u001b[0m \u001b[32m130.2/130.2 kB\u001b[0m \u001b[31m19.5 MB/s\u001b[0m eta \u001b[36m0:00:00\u001b[0m\n",
            "\u001b[2K     \u001b[90m━━━━━━━━━━━━━━━━━━━━━━━━━━━━━━━━━━━━━━━━\u001b[0m \u001b[32m86.8/86.8 kB\u001b[0m \u001b[31m10.3 MB/s\u001b[0m eta \u001b[36m0:00:00\u001b[0m\n",
            "\u001b[?25h  Building wheel for pypika (pyproject.toml) ... \u001b[?25l\u001b[?25hdone\n",
            "\u001b[31mERROR: pip's dependency resolver does not currently take into account all the packages that are installed. This behaviour is the source of the following dependency conflicts.\n",
            "lida 0.0.10 requires kaleido, which is not installed.\n",
            "lida 0.0.10 requires python-multipart, which is not installed.\u001b[0m\u001b[31m\n",
            "\u001b[0m"
          ]
        }
      ],
      "source": [
        "!pip install -q chromadb"
      ],
      "id": "QV6SF2nNh3Ym"
    },
    {
      "cell_type": "code",
      "execution_count": null,
      "metadata": {
        "colab": {
          "base_uri": "https://localhost:8080/"
        },
        "id": "0a5697c4",
        "outputId": "e1ecddbc-ed22-43f5-ea22-2c4b0ae8d075",
        "scrolled": false
      },
      "outputs": [
        {
          "data": {
            "text/plain": [
              "True"
            ]
          },
          "execution_count": 19,
          "metadata": {},
          "output_type": "execute_result"
        }
      ],
      "source": [
        "from dotenv import load_dotenv\n",
        "import os\n",
        "\n",
        "load_dotenv()"
      ],
      "id": "0a5697c4"
    },
    {
      "cell_type": "code",
      "execution_count": null,
      "metadata": {
        "id": "a1afa702"
      },
      "outputs": [],
      "source": [
        "# genai.configure(api_key=os.environ.get(\"GOOGLE_API_KEY\"))\n",
        "# model = genai.GenerativeModel(model_name = \"gemini-pro\")\n",
        "#  prompt = [\n",
        "#     \"Write a Python function and explain it to me\",\n",
        "# ]\n",
        "\n",
        "# response = model.generate_content(prompt)"
      ],
      "id": "a1afa702"
    },
    {
      "cell_type": "code",
      "execution_count": null,
      "metadata": {
        "id": "44bb9a17"
      },
      "outputs": [],
      "source": [
        "# print(response.text)"
      ],
      "id": "44bb9a17"
    },
    {
      "cell_type": "code",
      "execution_count": null,
      "metadata": {
        "id": "2f2ee8ad"
      },
      "outputs": [],
      "source": [
        "# import google.generativeai as genai\n",
        "from langchain.llms import GooglePalm\n",
        "from langchain.vectorstores import Chroma\n",
        "from langchain.embeddings import HuggingFaceEmbeddings\n",
        "from langchain.prompts import SemanticSimilarityExampleSelector"
      ],
      "id": "2f2ee8ad"
    },
    {
      "cell_type": "code",
      "execution_count": null,
      "metadata": {
        "id": "e1d447b9",
        "scrolled": true
      },
      "outputs": [],
      "source": [
        "from langchain.utilities import SQLDatabase\n",
        "from langchain_experimental.sql import SQLDatabaseChain\n",
        "from langchain.prompts import FewShotPromptTemplate\n",
        "from langchain.chains.sql_database.prompt import PROMPT_SUFFIX, _mysql_prompt\n",
        "from langchain.prompts.prompt import PromptTemplate\n",
        "import ipywidgets as widgets\n",
        "from IPython.display import display"
      ],
      "id": "e1d447b9"
    },
    {
      "cell_type": "code",
      "execution_count": null,
      "metadata": {
        "id": "536a6d79"
      },
      "outputs": [],
      "source": [
        "#fewShot learning\n",
        "\n",
        "fewShots= [\n",
        "    {\n",
        "     'Question' :\"which state has the longest patient stay if duration of stay is the difference between end date and start date?\",\n",
        "     'SQLQuery' :\"SELECT State, MAX(DATEDIFF(`EndDate`, `StartDate`)) AS LongestStayDuration FROM hospital_data GROUP BY State ORDER BY LongestStayDuration DESC LIMIT 5;\",\n",
        "     'SQLResult': \"Result of the SQL query\",\n",
        "     'Answer': \"IL\"\n",
        "    },\n",
        "    {\n",
        "     'Question' : \"which state has the highest percentage spend for claims paid between 1-30 days after discharge?\",\n",
        "     'SQLQuery' :\"SELECT State, MAX(`StateSpendingPercentage`) AS HighestPercentageSpend FROM hospital_data WHERE `Period` = '1 through 30 days After Discharge from Index Hospital Admission' GROUP BY `State` ORDER BY HighestPercentageSpend DESC LIMIT 1;\",\n",
        "     'SQLResult' :\"Result of the SQL query\",\n",
        "     'Answer': \"FL\"\n",
        "    },\n",
        "    {\n",
        "     'Question':\"which was the busiest month (had the most number of patients) for claims based on start and end dates?\",\n",
        "     'SQLQuery':\"SELECT EXTRACT(MONTH FROM `StartDate`) AS Month,EXTRACT(YEAR FROM `StartDate`) AS Year,COUNT(*) AS ClaimCount FROM hospital_data WHERE `StartDate` IS NOT NULL AND `EndDate` IS NOT NULL GROUP BY Month, Year ORDER BY `ClaimCount` DESC LIMIT 1;\",\n",
        "     'SQLResult':\"Result of the SQL query\",\n",
        "     'Answer': \"7, 2021\"\n",
        "    },\n",
        "    {\n",
        "     'Question' : \"what is max discount received for any patient when comparing invoiced amount to the national average\",\n",
        "     'SQLQuery' :\"SELECT (hospital_data.`NationalAvgSpend` - patient_data.`InvoiceAmount`) as Discount FROM patient_data LEFT JOIN hospital_data ON `patient_data.HospitalID` = hospital_data.`ProviderNo` ORDER BY `Discount` LIMIT 1;\",\n",
        "     'SQLResult' :\"Result of the SQL query\",\n",
        "     'Answer': \"4131\"\n",
        "    },\n",
        "    {\n",
        "     'Question' : \"what is the most common claim for drug or alcohol users from Colorado\",\n",
        "     'SQLQuery' :\"SELECT patient_data.`DrugsAlc`, hospital_data.`ClaimType`, COUNT(*) AS ClaimCount FROM patient_data JOIN hospital_data ON patient_data.`HospitalID` = hospital_data.`ProviderNo WHERE patient_data.`DrugsAlc` = 1 GROUP BY patient_data.`DrugsAlc`, hospital_data.`ClaimType` ORDER BY `ClaimCount` DESC LIMIT 1\",\n",
        "     'SQLResult' :\"Result of the SQL query\",\n",
        "     'Answer': \"Inpatient (13)\"\n",
        "    },\n",
        "    {\n",
        "     'Question' : \"What was the largest discount when compared to state average and provided negative feedback?\",\n",
        "     'SQLQuery' :\"SELECT patient_data.`PatientID`, patient_data.`InvoiceAmount`, hospital_data.`StateAvgSpend`, patient_data.`Feedback`,(hospital_data.`StateAvgSpend` - patient_data.`InvoiceAmount`) AS Discount FROM patient_data JOIN hospital_data ON patient_data.`HospitalID` = hospital_data.`ProviderNo` WHERE patient_data.`Feedback` = -1 ORDER BY Discount DESC LIMIT 1\",\n",
        "     'SQLResult' :\"Result of the SQL query\",\n",
        "     'Answer': \"1252.37\"\n",
        "    },\n",
        "    {\n",
        "     'Question' : \"how many patients paid more than the average hospital amount during a complete episode\",\n",
        "     'SQLQuery' :\"SELECT COUNT(*) AS NumPatientsPaidMoreThanAvg FROM patient_data JOIN hospital_data ON patient_data.`HospitalID` = hospital_data.`ProviderNo` WHERE patient_data.`InvoiceAmount` > hospital_data.`HospitalAvgSpend`   AND hospital_data.`Period` = 'Complete Episode' LIMIT 0, 1000\",\n",
        "     'SQLResult' :\"Result of the SQL query\",\n",
        "     'Answer': \"1\"\n",
        "    },\n",
        "    {\n",
        "     'Question' : \"Top 3 hospitals which charged an invoice amount from their patients lower than the national average for outpatient?\",\n",
        "     'SQLQuery' :\"SELECT hospital_data.`HospitalName`,patient_data.`InvoiceAmount`, hospital_data.`NationalAvgSpend` FROM hospital_data JOIN patient_data ON patient_data.`HospitalID` = hospital_data.`ProviderNo` WHERE hospital_data.`ClaimType` = 'Outpatient'   AND patient_data.`InvoiceAmount` < hospital_data.`NationalAvgSpend` LIMIT 0, 1000\",\n",
        "     'SQLResult' :\"Result of the SQL query\",\n",
        "     'Answer': \"\"\"[('EDEN MEDICAL CENTER', 665.022455860342, 730.0), ('MARTIN GENERAL HOSPITAL', 34.4408549900072, 124.0), ('SAINT FRANCIS BARTLETT MEDICAL CENTER', 52.8388648218745, 124.0)\"\"\"\n",
        "    },\n",
        "    {\n",
        "     'Question' : \"how many patients are smokers or pregnant from Texas? How many hospitals in the same?\",\n",
        "     'SQLQuery' :\"SELECT (SELECT COUNT(*) FROM patient_data WHERE (`Smoker` = 1 OR `Pregnant` = 1) AND `HomeState` = 'TX') AS NumPatients, (SELECT COUNT(*) FROM hospital_data WHERE `State` = 'TX') AS NumHospitals LIMIT 0, 100\",\n",
        "     'SQLResult' :\"Result of the SQL query\",\n",
        "     'Answer': \"7, 14\"\n",
        "    },\n",
        "    {\n",
        "     'Question' : \"how many patients with a smoking habit and went to hospitals in their home state during index admission?\",\n",
        "     'SQLQuery' :\"SELECT COUNT(*) AS NumSmokerOutpatientPatientsInHomeState FROM patient_data JOIN hospital_data ON patient_data.`HospitalID` = hospital_data.`ProviderNo` WHERE patient_data.`Smoker` = 1   AND patient_data.`HomeState` = hospital_data.`State`   AND hospital_data.`Period` = 'During Index Hospital Admission' LIMIT 0, 100\",\n",
        "     'SQLResult':\"Result of the SQL query\",\n",
        "     'Answer': \"2\"\n",
        "    },\n",
        "    {\n",
        "     'Question' :\"find the number of unemployed patients got treated outside their home state, and ended up getting invoiced for an amount 50% higher than the state average\",\n",
        "     'SQLQuery' :\"SELECT COUNT(*) AS NumPatients FROM patient_data JOIN hospital_data ON patient_data.`HospitalID` = hospital_data.`ProviderNo` WHERE patient_data.`Employed` = 0   AND patient_data.`HomeState` != hospital_data.`State`   AND patient_data.`InvoiceAmount` > 1.5 * hospital_data.`StateAvgSpend` LIMIT 0, 1000\",\n",
        "     'SQLResult':\"Result of the SQL query\",\n",
        "     'Answer': \"3\"\n",
        "    },\n",
        "    {\n",
        "     'Question' :\"which state had the most number of Drug/Alcohol users as patients\",\n",
        "     'SQLQuery' :\"SELECT hospital_data.`State`, COUNT(*) AS NumDrugAlcUsers FROM patient_data JOIN hospital_data ON patient_data.`HospitalID` = hospital_data.`ProviderNo` WHERE patient_data.`DrugsAlc` = 1 GROUP BY hospital_data.`State` ORDER BY NumDrugAlcUsers DESC LIMIT 1\",\n",
        "     'SQLResult':\"Result of the SQL query\",\n",
        "     'Answer': \"TX (7)\"\n",
        "    },\n",
        "    {\n",
        "     'Question' :\"what is the average BMI for outpatients in 2022\",\n",
        "     'SQLQuery' :\"SELECT AVG(patient_data.`BMI`) AS AvgBMI FROM patient_data JOIN hospital_data ON patient_data.`HospitalID` = hospital_data.`ProviderNo` WHERE hospital_data.`ClaimType` = 'Outpatient'   AND YEAR(hospital_data.`StartDate`) = 2022 LIMIT 0, 1000\",\n",
        "     'SQLResult':\"Result of the SQL query\",\n",
        "     'Answer': \"27.86\"\n",
        "\n",
        "    }\n",
        "\n",
        "]"
      ],
      "id": "536a6d79"
    },
    {
      "cell_type": "code",
      "execution_count": null,
      "metadata": {
        "id": "0keK9njPeyD5"
      },
      "outputs": [],
      "source": [
        "import os\n",
        "from google.colab import userdata\n",
        "os.environ['GOOGLE_API_KEY'] = userdata.get('GOOGLE_API_KEY')\n",
        "os.environ['Ngrok_Auth_Token'] = userdata.get('Ngrok_Auth_Token')"
      ],
      "id": "0keK9njPeyD5"
    },
    {
      "cell_type": "code",
      "execution_count": null,
      "metadata": {
        "id": "Q5-SASqlgJad"
      },
      "outputs": [],
      "source": [
        "import mysql.connector\n",
        "\n",
        "# Create a connection to the MySQL server\n",
        "conn = mysql.connector.connect(user='root', password='root', host='localhost')\n",
        "\n",
        "# Create a cursor to interact with the MySQL server\n",
        "cursor = conn.cursor()\n",
        "\n",
        "# Create a new database named 'library'\n",
        "cursor.execute(\"CREATE DATABASE IF NOT EXISTS hospital\")\n",
        "\n",
        "# Switch to the 'library' database\n",
        "cursor.execute(\"USE hospital\")\n",
        "\n",
        "# # Create the 'books' table\n",
        "# cursor.execute('''\n",
        "# CREATE TABLE IF NOT EXISTS books (\n",
        "#     id INT AUTO_INCREMENT PRIMARY KEY,\n",
        "#     title VARCHAR(255) NOT NULL,\n",
        "#     author VARCHAR(255) NOT NULL,\n",
        "#     year_published INT\n",
        "# )\n",
        "# ''')\n",
        "\n",
        "# Always remember to close the cursor and connection when done\n",
        "cursor.close()\n",
        "conn.close()"
      ],
      "id": "Q5-SASqlgJad"
    },
    {
      "cell_type": "code",
      "execution_count": null,
      "metadata": {
        "colab": {
          "base_uri": "https://localhost:8080/"
        },
        "id": "_SsE1eSZgcNv",
        "outputId": "fa8b365b-8dfd-483b-d150-dbec1e0ca028"
      },
      "outputs": [
        {
          "name": "stdout",
          "output_type": "stream",
          "text": [
            "mysql: [Warning] Using a password on the command line interface can be insecure.\n"
          ]
        }
      ],
      "source": [
        "!mysql --user=root --password=root hospital < hospital_hospital_data.sql"
      ],
      "id": "_SsE1eSZgcNv"
    },
    {
      "cell_type": "code",
      "execution_count": null,
      "metadata": {
        "colab": {
          "base_uri": "https://localhost:8080/"
        },
        "id": "mmtbza-khZzn",
        "outputId": "df9badfd-2370-41b6-d886-18712972125f"
      },
      "outputs": [
        {
          "name": "stdout",
          "output_type": "stream",
          "text": [
            "mysql: [Warning] Using a password on the command line interface can be insecure.\n"
          ]
        }
      ],
      "source": [
        "!mysql --user=root --password=root hospital < hospital_patient_data.sql"
      ],
      "id": "mmtbza-khZzn"
    },
    {
      "cell_type": "code",
      "execution_count": null,
      "metadata": {
        "id": "d6f08bb7"
      },
      "outputs": [],
      "source": [
        "def getfewShot():\n",
        "#Testing the Database connection\n",
        "    db_user = \"root\"\n",
        "    db_password = \"root\"\n",
        "    db_host = \"localhost\"\n",
        "    db_name = \"hospital\"\n",
        "\n",
        "    #importing the MySQL db\n",
        "    db = SQLDatabase.from_uri(f\"mysql+pymysql://{db_user}:{db_password}@{db_host}/{db_name}\",sample_rows_in_table_info=3)\n",
        "    llm = GooglePalm(google_api_key=os.environ[\"GOOGLE_API_KEY\"], temperature=0.1)\n",
        "\n",
        "    #Sentence transformer models from https://huggingface.co/sentence-transformers?sort_models=modified#models\n",
        "    #Using chromaDB for vector storage\n",
        "\n",
        "    x = HuggingFaceEmbeddings(model_name='sentence-transformers/all-MiniLM-L12-v2')\n",
        "    v = [\" \".join(i.values()) for i in fewShots]\n",
        "    vectorstore = Chroma.from_texts(v, x, metadatas=fewShots)\n",
        "    example_selector = SemanticSimilarityExampleSelector(vectorstore=vectorstore,k=2,)\n",
        "\n",
        "    #from langchain.chains.sql_database.prompt import PROMPT_SUFFIX, _mysql_prompt\n",
        "    #from langchain.prompts.prompt import PromptTemplate\n",
        "\n",
        "    mysql_prompt = \"\"\"You are a MySQL expert. Given an input question, first create a syntactically correct MySQL query to run, then look at the results of the query and return the answer to the input question.\n",
        "    Unless the user specifies in the question a specific number of examples to obtain, query for at most {top_k} results using the LIMIT clause as per MySQL. You can order the results to return the most informative data in the database.\n",
        "    Never query for all columns from a table. You must query only the columns that are needed to answer the question. Wrap each column name in backticks (`) to denote them as delimited identifiers.\n",
        "    Pay attention to use only the column names you can see in the tables below, and make sure to reference the right columns from the right tables. Be careful to not query for columns that do not exist. Also, pay attention to which column is in which table and use joins to find synergies between tables.\n",
        "    Pay attention to use CURDATE() function to get the current date, if the question involves \"today\".\n",
        "\n",
        "    Use the following format:\n",
        "\n",
        "    Question: Question here\n",
        "    SQLQuery: Query to run with no pre-amble\n",
        "    SQLResult: Result of the SQLQuery\n",
        "    Answer: Final answer here\n",
        "\n",
        "    No pre-amble.\"\"\"\n",
        "\n",
        "\n",
        "    example_prompt = PromptTemplate(\n",
        "        input_variables=[\"Question\", \"SQLQuery\", \"SQLResult\",\"Answer\",],\n",
        "        template=\"\\nQuestion: {Question}\\nSQLQuery: {SQLQuery}\\nSQLResult: {SQLResult}\\nAnswer: {Answer}\",)\n",
        "\n",
        "    #Creating a prompt\n",
        "\n",
        "    fewShot_prompt = FewShotPromptTemplate(\n",
        "        example_selector=example_selector,\n",
        "        example_prompt=example_prompt,\n",
        "        prefix=mysql_prompt,\n",
        "        suffix=PROMPT_SUFFIX,\n",
        "        input_variables=[\"input\", \"table_info\", \"top_k\"],)\n",
        "\n",
        "    chain = SQLDatabaseChain.from_llm(llm, db, verbose=True, prompt=fewShot_prompt)\n",
        "    return chain"
      ],
      "id": "d6f08bb7"
    },
    {
      "cell_type": "code",
      "execution_count": null,
      "metadata": {
        "colab": {
          "base_uri": "https://localhost:8080/",
          "height": 183
        },
        "collapsed": true,
        "id": "85aed03d",
        "outputId": "1e3e8d08-ad37-44b4-8ae5-d29a2b5873a2"
      },
      "outputs": [
        {
          "name": "stdout",
          "output_type": "stream",
          "text": [
            "\n",
            "\n",
            "\u001b[1m> Entering new SQLDatabaseChain chain...\u001b[0m\n",
            "what is the most common claim for smokers in florida?\n",
            "SQLQuery:\u001b[32;1m\u001b[1;3mSELECT hospital_data.`ClaimType`, COUNT(*) AS ClaimCount FROM patient_data JOIN hospital_data ON patient_data.`HospitalID` = hospital_data.`ProviderNo` WHERE patient_data.`Smoker` = 1   AND patient_data.`HomeState` = 'FL' GROUP BY hospital_data.`ClaimType` ORDER BY `ClaimCount` DESC LIMIT 1\u001b[0m\n",
            "SQLResult: \u001b[33;1m\u001b[1;3m[('Inpatient', 1)]\u001b[0m\n",
            "Answer:\u001b[32;1m\u001b[1;3mInpatient\u001b[0m\n",
            "\u001b[1m> Finished chain.\u001b[0m\n"
          ]
        }
      ],
      "source": [
        "chain = getfewShot()\n",
        "response = chain.invoke(\"what is the most common claim for smokers in florida?\")"
      ],
      "id": "85aed03d"
    },
    {
      "cell_type": "code",
      "execution_count": null,
      "metadata": {
        "id": "82f6e7d7",
        "scrolled": true
      },
      "outputs": [],
      "source": [
        "def runQuery(question):\n",
        "\n",
        "    chain = getfewShot()\n",
        "    response = chain.invoke(question)\n",
        "    return response\n",
        "\n",
        "def OnButtonClick(b):\n",
        "    question = question_input.value\n",
        "    if question:\n",
        "        answer_output.value = f\"Response: {runQuery(question)}\"\n",
        "    else:\n",
        "        answer_output.value = \"Please enter a question.\"\n",
        "\n",
        "# Widgets\n",
        "question_input = widgets.Text(description=\"Question:\")\n",
        "submit_button = widgets.Button(description=\"Get Answer\")\n",
        "answer_output = widgets.HTML(value=\"\")\n",
        "\n",
        "# Event handling\n",
        "submit_button.on_click(OnButtonClick)\n",
        "\n",
        "\n",
        "layout = widgets.VBox([question_input, submit_button, answer_output])\n"
      ],
      "id": "82f6e7d7"
    },
    {
      "cell_type": "code",
      "execution_count": null,
      "metadata": {
        "colab": {
          "base_uri": "https://localhost:8080/",
          "height": 279,
          "referenced_widgets": [
            "71d90580e815419ab57b705b10803c2e",
            "42d0378ff503448e9bce039c985197b5",
            "05e5eb65d77d450cb51bb9239b60614a",
            "fe34fad108294d61b3be5bd40b767b65",
            "f680988bc9a54838bbeccfd5a10aeb5f",
            "4de45a387a8d4b01ac28484fc2eceebc",
            "9ab68e2e66694185bd7f8d38dfc563c0",
            "db4c8767e0a4401ab9070ffe550c21fb",
            "d9d618ac4fa543aeba65c7aadc71d34a",
            "a99d5a8315f44c49a6d551299c1f3713",
            "243aeaf022fb44b9bc7ee444fef09fbf"
          ]
        },
        "id": "7e1ece07",
        "outputId": "88ff02c8-e75a-4b7d-f82a-45dfddfe4edc"
      },
      "outputs": [
        {
          "data": {
            "application/vnd.jupyter.widget-view+json": {
              "model_id": "71d90580e815419ab57b705b10803c2e",
              "version_major": 2,
              "version_minor": 0
            },
            "text/plain": [
              "VBox(children=(Text(value='What is the most expensive hospital for employed smokers in Florida?', description=…"
            ]
          },
          "metadata": {},
          "output_type": "display_data"
        },
        {
          "name": "stdout",
          "output_type": "stream",
          "text": [
            "\n",
            "\n",
            "\u001b[1m> Entering new SQLDatabaseChain chain...\u001b[0m\n",
            "what is the average BMI for outpatients in 2022\n",
            "SQLQuery:\u001b[32;1m\u001b[1;3mSELECT AVG(patient_data.`BMI`) AS AvgBMI FROM patient_data JOIN hospital_data ON patient_data.`HospitalID` = hospital_data.`ProviderNo` WHERE hospital_data.`ClaimType` = 'Outpatient'   AND YEAR(hospital_data.`StartDate`) = 2022 LIMIT 0, 1000\u001b[0m\n",
            "SQLResult: \u001b[33;1m\u001b[1;3m[(Decimal('27.8571'),)]\u001b[0m\n",
            "Answer:\u001b[32;1m\u001b[1;3m27.86\u001b[0m\n",
            "\u001b[1m> Finished chain.\u001b[0m\n"
          ]
        }
      ],
      "source": [
        "display(layout)"
      ],
      "id": "7e1ece07"
    },
    {
      "cell_type": "markdown",
      "metadata": {
        "id": "gcW0T2uEfRHI"
      },
      "source": [
        "\n",
        "\n",
        "---\n",
        "\n"
      ],
      "id": "gcW0T2uEfRHI"
    },
    {
      "cell_type": "markdown",
      "metadata": {
        "id": "encqGJ4u0FYG"
      },
      "source": [
        "## Install ngrok"
      ],
      "id": "encqGJ4u0FYG"
    },
    {
      "cell_type": "code",
      "execution_count": null,
      "metadata": {
        "id": "1pVdw7nr_6Ld"
      },
      "outputs": [],
      "source": [
        "!pip install -q pyngrok"
      ],
      "id": "1pVdw7nr_6Ld"
    },
    {
      "cell_type": "code",
      "execution_count": null,
      "metadata": {
        "colab": {
          "base_uri": "https://localhost:8080/"
        },
        "id": "tzSAalw3nxXF",
        "outputId": "6f3d434c-1da9-4e6b-a8a0-0abc23b82504"
      },
      "outputs": [
        {
          "name": "stdout",
          "output_type": "stream",
          "text": [
            "Authtoken saved to configuration file: /root/.config/ngrok/ngrok.yml\n"
          ]
        }
      ],
      "source": [
        "!ngrok authtoken\t$Ngrok_Auth_Token"
      ],
      "id": "tzSAalw3nxXF"
    },
    {
      "cell_type": "code",
      "execution_count": null,
      "metadata": {
        "colab": {
          "base_uri": "https://localhost:8080/"
        },
        "id": "bye-V_yIn3xu",
        "outputId": "5ca09d3c-8b39-47b9-ddfd-d548c0996097"
      },
      "outputs": [
        {
          "data": {
            "text/plain": [
              "<NgrokTunnel: \"https://8780-35-245-49-152.ngrok-free.app\" -> \"http://localhost:80\">"
            ]
          },
          "execution_count": 54,
          "metadata": {},
          "output_type": "execute_result"
        }
      ],
      "source": [
        "from pyngrok import ngrok\n",
        "public_url = ngrok.connect()\n",
        "public_url"
      ],
      "id": "bye-V_yIn3xu"
    },
    {
      "cell_type": "code",
      "execution_count": null,
      "metadata": {
        "colab": {
          "base_uri": "https://localhost:8080/"
        },
        "id": "PvGQQ2XesbjF",
        "outputId": "ddff6187-7785-44cc-b3ae-3857bb81d335"
      },
      "outputs": [
        {
          "name": "stdout",
          "output_type": "stream",
          "text": [
            "Execute the next cell and the go to the following URL: https://8780-35-245-49-152.ngrok-free.app\n"
          ]
        }
      ],
      "source": [
        "!curl -s http://localhost:4040/api/tunnels | python3 -c 'import sys, json; print(\"Execute the next cell and the go to the following URL: \" +json.load(sys.stdin)[\"tunnels\"][0][\"public_url\"])'"
      ],
      "id": "PvGQQ2XesbjF"
    },
    {
      "cell_type": "code",
      "execution_count": null,
      "metadata": {
        "colab": {
          "background_save": true,
          "base_uri": "https://localhost:8080/"
        },
        "id": "uLKNbCxtoinJ",
        "outputId": "26c29018-7c82-43d2-abac-3b78653abe19"
      },
      "outputs": [
        {
          "name": "stdout",
          "output_type": "stream",
          "text": [
            "\n",
            "Collecting usage statistics. To deactivate, set browser.gatherUsageStats to False.\n",
            "\u001b[0m\n",
            "\u001b[0m\n",
            "\u001b[34m\u001b[1m  You can now view your Streamlit app in your browser.\u001b[0m\n",
            "\u001b[0m\n",
            "\u001b[34m  Network URL: \u001b[0m\u001b[1mhttp://172.28.0.12:80\u001b[0m\n",
            "\u001b[34m  External URL: \u001b[0m\u001b[1mhttp://35.245.49.152:80\u001b[0m\n",
            "\u001b[0m\n",
            "Error: 1045 (28000): Access denied for user 'root'@'localhost' (using password: YES)\n",
            "2024-02-07 17:13:17.874 Uncaught app exception\n",
            "Traceback (most recent call last):\n",
            "  File \"/usr/local/lib/python3.10/dist-packages/streamlit/runtime/scriptrunner/script_runner.py\", line 535, in _run_script\n",
            "    exec(code, module.__dict__)\n",
            "  File \"/content/GeminiSQLExecutor/app.py\", line 193, in <module>\n",
            "    schema = captureSchema(db_user=\"root\", db_password=\"VA9999\", db_host=\"localhost\", db_name=\"hospital\")\n",
            "  File \"/content/GeminiSQLExecutor/app.py\", line 73, in captureSchema\n",
            "    if connection.is_connected():\n",
            "UnboundLocalError: local variable 'connection' referenced before assignment\n",
            "Error: 1045 (28000): Access denied for user 'root'@'localhost' (using password: YES)\n",
            "2024-02-07 17:13:56.244 Uncaught app exception\n",
            "Traceback (most recent call last):\n",
            "  File \"/usr/local/lib/python3.10/dist-packages/streamlit/runtime/scriptrunner/script_runner.py\", line 535, in _run_script\n",
            "    exec(code, module.__dict__)\n",
            "  File \"/content/GeminiSQLExecutor/app.py\", line 193, in <module>\n",
            "    schema = captureSchema(db_user=\"root\", db_password=\"root\", db_host=\"localhost\", db_name=\"hospital\")\n",
            "  File \"/content/GeminiSQLExecutor/app.py\", line 73, in captureSchema\n",
            "    if connection.is_connected():\n",
            "UnboundLocalError: local variable 'connection' referenced before assignment\n",
            "Error: 1045 (28000): Access denied for user 'root'@'localhost' (using password: YES)\n",
            "2024-02-07 17:14:14.492 Uncaught app exception\n",
            "Traceback (most recent call last):\n",
            "  File \"/usr/local/lib/python3.10/dist-packages/streamlit/runtime/scriptrunner/script_runner.py\", line 535, in _run_script\n",
            "    exec(code, module.__dict__)\n",
            "  File \"/content/GeminiSQLExecutor/app.py\", line 193, in <module>\n",
            "    schema = captureSchema(db_user=\"root\", db_password=\"root\", db_host=\"localhost\", db_name=\"hospital\")\n",
            "  File \"/content/GeminiSQLExecutor/app.py\", line 73, in captureSchema\n",
            "    if connection.is_connected():\n",
            "UnboundLocalError: local variable 'connection' referenced before assignment\n",
            "Error: 1064 (42000): You have an error in your SQL syntax; check the manual that corresponds to your MySQL server version for the right syntax to use near '```sql\n",
            "SELECT\n",
            "    hospital_data.HospitalName,\n",
            "    patient_data.InvoiceAmount\n",
            "FRO' at line 1\n",
            "Error: 1064 (42000): You have an error in your SQL syntax; check the manual that corresponds to your MySQL server version for the right syntax to use near 'I am not sure if that exists in the database. Please provide more information, o' at line 1\n",
            "Error: 1064 (42000): You have an error in your SQL syntax; check the manual that corresponds to your MySQL server version for the right syntax to use near 'I am not sure if that exists in the database. Please provide more information, o' at line 1\n"
          ]
        }
      ],
      "source": [
        "# !streamlit run --server.port 80 sql.py >/dev/null\n",
        "!streamlit run --server.port 80 app.py"
      ],
      "id": "uLKNbCxtoinJ"
    }
  ],
  "metadata": {
    "colab": {
      "provenance": [],
      "include_colab_link": true
    },
    "kernelspec": {
      "display_name": "Python 3 (ipykernel)",
      "language": "python",
      "name": "python3"
    },
    "language_info": {
      "codemirror_mode": {
        "name": "ipython",
        "version": 3
      },
      "file_extension": ".py",
      "mimetype": "text/x-python",
      "name": "python",
      "nbconvert_exporter": "python",
      "pygments_lexer": "ipython3",
      "version": "3.9.7"
    },
    "widgets": {
      "application/vnd.jupyter.widget-state+json": {
        "05e5eb65d77d450cb51bb9239b60614a": {
          "model_module": "@jupyter-widgets/controls",
          "model_module_version": "1.5.0",
          "model_name": "ButtonModel",
          "state": {
            "_dom_classes": [],
            "_model_module": "@jupyter-widgets/controls",
            "_model_module_version": "1.5.0",
            "_model_name": "ButtonModel",
            "_view_count": null,
            "_view_module": "@jupyter-widgets/controls",
            "_view_module_version": "1.5.0",
            "_view_name": "ButtonView",
            "button_style": "",
            "description": "Get Answer",
            "disabled": false,
            "icon": "",
            "layout": "IPY_MODEL_db4c8767e0a4401ab9070ffe550c21fb",
            "style": "IPY_MODEL_d9d618ac4fa543aeba65c7aadc71d34a",
            "tooltip": ""
          }
        },
        "243aeaf022fb44b9bc7ee444fef09fbf": {
          "model_module": "@jupyter-widgets/controls",
          "model_module_version": "1.5.0",
          "model_name": "DescriptionStyleModel",
          "state": {
            "_model_module": "@jupyter-widgets/controls",
            "_model_module_version": "1.5.0",
            "_model_name": "DescriptionStyleModel",
            "_view_count": null,
            "_view_module": "@jupyter-widgets/base",
            "_view_module_version": "1.2.0",
            "_view_name": "StyleView",
            "description_width": ""
          }
        },
        "42d0378ff503448e9bce039c985197b5": {
          "model_module": "@jupyter-widgets/controls",
          "model_module_version": "1.5.0",
          "model_name": "TextModel",
          "state": {
            "_dom_classes": [],
            "_model_module": "@jupyter-widgets/controls",
            "_model_module_version": "1.5.0",
            "_model_name": "TextModel",
            "_view_count": null,
            "_view_module": "@jupyter-widgets/controls",
            "_view_module_version": "1.5.0",
            "_view_name": "TextView",
            "continuous_update": true,
            "description": "Question:",
            "description_tooltip": null,
            "disabled": false,
            "layout": "IPY_MODEL_4de45a387a8d4b01ac28484fc2eceebc",
            "placeholder": "​",
            "style": "IPY_MODEL_9ab68e2e66694185bd7f8d38dfc563c0",
            "value": "what is the average BMI for outpatients in 2022"
          }
        },
        "4de45a387a8d4b01ac28484fc2eceebc": {
          "model_module": "@jupyter-widgets/base",
          "model_module_version": "1.2.0",
          "model_name": "LayoutModel",
          "state": {
            "_model_module": "@jupyter-widgets/base",
            "_model_module_version": "1.2.0",
            "_model_name": "LayoutModel",
            "_view_count": null,
            "_view_module": "@jupyter-widgets/base",
            "_view_module_version": "1.2.0",
            "_view_name": "LayoutView",
            "align_content": null,
            "align_items": null,
            "align_self": null,
            "border": null,
            "bottom": null,
            "display": null,
            "flex": null,
            "flex_flow": null,
            "grid_area": null,
            "grid_auto_columns": null,
            "grid_auto_flow": null,
            "grid_auto_rows": null,
            "grid_column": null,
            "grid_gap": null,
            "grid_row": null,
            "grid_template_areas": null,
            "grid_template_columns": null,
            "grid_template_rows": null,
            "height": null,
            "justify_content": null,
            "justify_items": null,
            "left": null,
            "margin": null,
            "max_height": null,
            "max_width": null,
            "min_height": null,
            "min_width": null,
            "object_fit": null,
            "object_position": null,
            "order": null,
            "overflow": null,
            "overflow_x": null,
            "overflow_y": null,
            "padding": null,
            "right": null,
            "top": null,
            "visibility": null,
            "width": null
          }
        },
        "71d90580e815419ab57b705b10803c2e": {
          "model_module": "@jupyter-widgets/controls",
          "model_module_version": "1.5.0",
          "model_name": "VBoxModel",
          "state": {
            "_dom_classes": [],
            "_model_module": "@jupyter-widgets/controls",
            "_model_module_version": "1.5.0",
            "_model_name": "VBoxModel",
            "_view_count": null,
            "_view_module": "@jupyter-widgets/controls",
            "_view_module_version": "1.5.0",
            "_view_name": "VBoxView",
            "box_style": "",
            "children": [
              "IPY_MODEL_42d0378ff503448e9bce039c985197b5",
              "IPY_MODEL_05e5eb65d77d450cb51bb9239b60614a",
              "IPY_MODEL_fe34fad108294d61b3be5bd40b767b65"
            ],
            "layout": "IPY_MODEL_f680988bc9a54838bbeccfd5a10aeb5f"
          }
        },
        "9ab68e2e66694185bd7f8d38dfc563c0": {
          "model_module": "@jupyter-widgets/controls",
          "model_module_version": "1.5.0",
          "model_name": "DescriptionStyleModel",
          "state": {
            "_model_module": "@jupyter-widgets/controls",
            "_model_module_version": "1.5.0",
            "_model_name": "DescriptionStyleModel",
            "_view_count": null,
            "_view_module": "@jupyter-widgets/base",
            "_view_module_version": "1.2.0",
            "_view_name": "StyleView",
            "description_width": ""
          }
        },
        "a99d5a8315f44c49a6d551299c1f3713": {
          "model_module": "@jupyter-widgets/base",
          "model_module_version": "1.2.0",
          "model_name": "LayoutModel",
          "state": {
            "_model_module": "@jupyter-widgets/base",
            "_model_module_version": "1.2.0",
            "_model_name": "LayoutModel",
            "_view_count": null,
            "_view_module": "@jupyter-widgets/base",
            "_view_module_version": "1.2.0",
            "_view_name": "LayoutView",
            "align_content": null,
            "align_items": null,
            "align_self": null,
            "border": null,
            "bottom": null,
            "display": null,
            "flex": null,
            "flex_flow": null,
            "grid_area": null,
            "grid_auto_columns": null,
            "grid_auto_flow": null,
            "grid_auto_rows": null,
            "grid_column": null,
            "grid_gap": null,
            "grid_row": null,
            "grid_template_areas": null,
            "grid_template_columns": null,
            "grid_template_rows": null,
            "height": null,
            "justify_content": null,
            "justify_items": null,
            "left": null,
            "margin": null,
            "max_height": null,
            "max_width": null,
            "min_height": null,
            "min_width": null,
            "object_fit": null,
            "object_position": null,
            "order": null,
            "overflow": null,
            "overflow_x": null,
            "overflow_y": null,
            "padding": null,
            "right": null,
            "top": null,
            "visibility": null,
            "width": null
          }
        },
        "d9d618ac4fa543aeba65c7aadc71d34a": {
          "model_module": "@jupyter-widgets/controls",
          "model_module_version": "1.5.0",
          "model_name": "ButtonStyleModel",
          "state": {
            "_model_module": "@jupyter-widgets/controls",
            "_model_module_version": "1.5.0",
            "_model_name": "ButtonStyleModel",
            "_view_count": null,
            "_view_module": "@jupyter-widgets/base",
            "_view_module_version": "1.2.0",
            "_view_name": "StyleView",
            "button_color": null,
            "font_weight": ""
          }
        },
        "db4c8767e0a4401ab9070ffe550c21fb": {
          "model_module": "@jupyter-widgets/base",
          "model_module_version": "1.2.0",
          "model_name": "LayoutModel",
          "state": {
            "_model_module": "@jupyter-widgets/base",
            "_model_module_version": "1.2.0",
            "_model_name": "LayoutModel",
            "_view_count": null,
            "_view_module": "@jupyter-widgets/base",
            "_view_module_version": "1.2.0",
            "_view_name": "LayoutView",
            "align_content": null,
            "align_items": null,
            "align_self": null,
            "border": null,
            "bottom": null,
            "display": null,
            "flex": null,
            "flex_flow": null,
            "grid_area": null,
            "grid_auto_columns": null,
            "grid_auto_flow": null,
            "grid_auto_rows": null,
            "grid_column": null,
            "grid_gap": null,
            "grid_row": null,
            "grid_template_areas": null,
            "grid_template_columns": null,
            "grid_template_rows": null,
            "height": null,
            "justify_content": null,
            "justify_items": null,
            "left": null,
            "margin": null,
            "max_height": null,
            "max_width": null,
            "min_height": null,
            "min_width": null,
            "object_fit": null,
            "object_position": null,
            "order": null,
            "overflow": null,
            "overflow_x": null,
            "overflow_y": null,
            "padding": null,
            "right": null,
            "top": null,
            "visibility": null,
            "width": null
          }
        },
        "f680988bc9a54838bbeccfd5a10aeb5f": {
          "model_module": "@jupyter-widgets/base",
          "model_module_version": "1.2.0",
          "model_name": "LayoutModel",
          "state": {
            "_model_module": "@jupyter-widgets/base",
            "_model_module_version": "1.2.0",
            "_model_name": "LayoutModel",
            "_view_count": null,
            "_view_module": "@jupyter-widgets/base",
            "_view_module_version": "1.2.0",
            "_view_name": "LayoutView",
            "align_content": null,
            "align_items": null,
            "align_self": null,
            "border": null,
            "bottom": null,
            "display": null,
            "flex": null,
            "flex_flow": null,
            "grid_area": null,
            "grid_auto_columns": null,
            "grid_auto_flow": null,
            "grid_auto_rows": null,
            "grid_column": null,
            "grid_gap": null,
            "grid_row": null,
            "grid_template_areas": null,
            "grid_template_columns": null,
            "grid_template_rows": null,
            "height": null,
            "justify_content": null,
            "justify_items": null,
            "left": null,
            "margin": null,
            "max_height": null,
            "max_width": null,
            "min_height": null,
            "min_width": null,
            "object_fit": null,
            "object_position": null,
            "order": null,
            "overflow": null,
            "overflow_x": null,
            "overflow_y": null,
            "padding": null,
            "right": null,
            "top": null,
            "visibility": null,
            "width": null
          }
        },
        "fe34fad108294d61b3be5bd40b767b65": {
          "model_module": "@jupyter-widgets/controls",
          "model_module_version": "1.5.0",
          "model_name": "HTMLModel",
          "state": {
            "_dom_classes": [],
            "_model_module": "@jupyter-widgets/controls",
            "_model_module_version": "1.5.0",
            "_model_name": "HTMLModel",
            "_view_count": null,
            "_view_module": "@jupyter-widgets/controls",
            "_view_module_version": "1.5.0",
            "_view_name": "HTMLView",
            "description": "",
            "description_tooltip": null,
            "layout": "IPY_MODEL_a99d5a8315f44c49a6d551299c1f3713",
            "placeholder": "​",
            "style": "IPY_MODEL_243aeaf022fb44b9bc7ee444fef09fbf",
            "value": "Response: {'query': 'what is the average BMI for outpatients in 2022', 'result': '27.86'}"
          }
        }
      }
    }
  },
  "nbformat": 4,
  "nbformat_minor": 5
}